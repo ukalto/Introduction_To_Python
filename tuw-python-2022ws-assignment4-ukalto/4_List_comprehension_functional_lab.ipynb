{
 "cells": [
  {
   "cell_type": "markdown",
   "metadata": {},
   "source": [
    "Before you turn this problem in, make sure everything runs as expected. First, **restart the kernel** (in the menubar, select Kernel$\\rightarrow$Restart) and then **run all cells** (in the menubar, select Cell$\\rightarrow$Run All).\n",
    "\n",
    "Make sure you fill in any place that says `YOUR CODE HERE` or \"YOUR ANSWER HERE\", as well as your name and collaborators below:"
   ]
  },
  {
   "cell_type": "code",
   "execution_count": 1,
   "metadata": {},
   "outputs": [],
   "source": [
    "NAME = \"Max\"\n",
    "COLLABORATORS = \"\""
   ]
  },
  {
   "cell_type": "markdown",
   "metadata": {},
   "source": [
    "---"
   ]
  },
  {
   "cell_type": "markdown",
   "metadata": {
    "deletable": false,
    "editable": false,
    "nbgrader": {
     "cell_type": "markdown",
     "checksum": "07e55412ee568c47bfdb8b8da11e1902",
     "grade": false,
     "grade_id": "cell-ac62b5bf39c1a456",
     "locked": true,
     "schema_version": 3,
     "solution": false,
     "task": false
    }
   },
   "source": [
    "# Assignment 4: List comprechension, generators, functional python"
   ]
  },
  {
   "cell_type": "markdown",
   "metadata": {},
   "source": [
    "Imports"
   ]
  },
  {
   "cell_type": "code",
   "execution_count": 27,
   "metadata": {},
   "outputs": [],
   "source": [
    "from contextlib import redirect_stdout\n",
    "from typing import Iterable, Any, List, Tuple\n",
    "from types import GeneratorType\n",
    "from functools import reduce\n",
    "import io\n"
   ]
  },
  {
   "cell_type": "markdown",
   "metadata": {},
   "source": [
    "## 1. Comprehensions\n",
    "\n",
    "Convert the following for loops into comprehensions:"
   ]
  },
  {
   "cell_type": "code",
   "execution_count": null,
   "metadata": {
    "deletable": false,
    "editable": false,
    "nbgrader": {
     "cell_type": "code",
     "checksum": "309b8419abad4bcba0c530b4ab7cf8b2",
     "grade": false,
     "grade_id": "cell-2cd05e0199137bf5",
     "locked": true,
     "schema_version": 3,
     "solution": false,
     "task": false
    }
   },
   "outputs": [],
   "source": [
    "l = []\n",
    "for i in range(-5, 10, 2):\n",
    "    l.append(i - 2)\n",
    "l"
   ]
  },
  {
   "cell_type": "code",
   "execution_count": null,
   "metadata": {
    "deletable": false,
    "nbgrader": {
     "cell_type": "code",
     "checksum": "2a29f5d13d3655cbfe7e000bb981bb7d",
     "grade": false,
     "grade_id": "cell-fe81859f4057f7ff",
     "locked": false,
     "schema_version": 3,
     "solution": true,
     "task": false
    }
   },
   "outputs": [],
   "source": [
    "# YOUR CODE HERE\n",
    "raise NotImplementedError()"
   ]
  },
  {
   "cell_type": "code",
   "execution_count": null,
   "metadata": {
    "deletable": false,
    "editable": false,
    "nbgrader": {
     "cell_type": "code",
     "checksum": "3d37a767a785979758a5765e328f36c1",
     "grade": false,
     "grade_id": "cell-a64f6d63d3a081ca",
     "locked": true,
     "schema_version": 3,
     "solution": false,
     "task": false
    }
   },
   "outputs": [],
   "source": [
    "l = []\n",
    "for i in range(100):\n",
    "    if i % 10 == 4:\n",
    "        l.append(i)\n",
    "l"
   ]
  },
  {
   "cell_type": "code",
   "execution_count": null,
   "metadata": {
    "deletable": false,
    "nbgrader": {
     "cell_type": "code",
     "checksum": "b262a886e5fd6fd78ae9d59a50908b87",
     "grade": false,
     "grade_id": "cell-adadaf2661704ec1",
     "locked": false,
     "schema_version": 3,
     "solution": true,
     "task": false
    }
   },
   "outputs": [],
   "source": [
    "# YOUR CODE HERE\n",
    "raise NotImplementedError()"
   ]
  },
  {
   "cell_type": "code",
   "execution_count": null,
   "metadata": {
    "deletable": false,
    "editable": false,
    "nbgrader": {
     "cell_type": "code",
     "checksum": "e4e7ef1ec6796122ce25455b3612d607",
     "grade": false,
     "grade_id": "cell-e45a3fb2f858a92b",
     "locked": true,
     "schema_version": 3,
     "solution": false,
     "task": false
    }
   },
   "outputs": [],
   "source": [
    "l1 = [12, 1, 0, 13, -3, -4, 0, 2]\n",
    "l2 = []\n",
    "\n",
    "for e in l1:\n",
    "    if e % 2 == 1:\n",
    "        l2.append(e)\n",
    "l2"
   ]
  },
  {
   "cell_type": "code",
   "execution_count": null,
   "metadata": {
    "deletable": false,
    "nbgrader": {
     "cell_type": "code",
     "checksum": "423b1c5670aa98b341678ade21bf710a",
     "grade": false,
     "grade_id": "cell-01c992d67ca14968",
     "locked": false,
     "schema_version": 3,
     "solution": true,
     "task": false
    }
   },
   "outputs": [],
   "source": [
    "# YOUR CODE HERE\n",
    "raise NotImplementedError()"
   ]
  },
  {
   "cell_type": "code",
   "execution_count": null,
   "metadata": {
    "deletable": false,
    "editable": false,
    "nbgrader": {
     "cell_type": "code",
     "checksum": "dd3a1cc84f3fe6ca88f743b69e2866fd",
     "grade": false,
     "grade_id": "cell-e68e24222ccae6ac",
     "locked": true,
     "schema_version": 3,
     "solution": false,
     "task": false
    }
   },
   "outputs": [],
   "source": [
    "l1 = [12, 1, 0, 13, -3, -4, 0, 2]\n",
    "l2 = []\n",
    "\n",
    "for e in l1:\n",
    "    if e % 2 == 1:\n",
    "        l2.append(True)\n",
    "    else:\n",
    "        l2.append(False)\n",
    "l2"
   ]
  },
  {
   "cell_type": "code",
   "execution_count": null,
   "metadata": {
    "deletable": false,
    "nbgrader": {
     "cell_type": "code",
     "checksum": "27fbbc1ad64310a665a101d6ae931234",
     "grade": false,
     "grade_id": "cell-106d47d0b13dd3b1",
     "locked": false,
     "schema_version": 3,
     "solution": true,
     "task": false
    }
   },
   "outputs": [],
   "source": [
    "# YOUR CODE HERE\n",
    "raise NotImplementedError()"
   ]
  },
  {
   "cell_type": "code",
   "execution_count": null,
   "metadata": {
    "deletable": false,
    "editable": false,
    "nbgrader": {
     "cell_type": "code",
     "checksum": "1ae9f95ba52626cf56fae7ca00b7dd0f",
     "grade": false,
     "grade_id": "cell-32329cc757eecb28",
     "locked": true,
     "schema_version": 3,
     "solution": false,
     "task": false
    }
   },
   "outputs": [],
   "source": [
    "l1 = [3, 5, 7, 11]\n",
    "l2 = [2, 4, 6]\n",
    "\n",
    "products = []\n",
    "\n",
    "for x in l1:\n",
    "    for y in l2:\n",
    "        products.append(x * y)\n",
    "products"
   ]
  },
  {
   "cell_type": "code",
   "execution_count": null,
   "metadata": {
    "deletable": false,
    "nbgrader": {
     "cell_type": "code",
     "checksum": "ecf9e3c0d326b868a2348b82c0a21f61",
     "grade": false,
     "grade_id": "cell-4ead65faba295143",
     "locked": false,
     "schema_version": 3,
     "solution": true,
     "task": false
    }
   },
   "outputs": [],
   "source": [
    "# YOUR CODE HERE\n",
    "raise NotImplementedError()"
   ]
  },
  {
   "cell_type": "code",
   "execution_count": null,
   "metadata": {
    "deletable": false,
    "editable": false,
    "nbgrader": {
     "cell_type": "code",
     "checksum": "485eb324b71a26e037a440fcdf34a7bf",
     "grade": false,
     "grade_id": "cell-3c0f2b750c329898",
     "locked": true,
     "schema_version": 3,
     "solution": false,
     "task": false
    }
   },
   "outputs": [],
   "source": [
    "l1 = [3, 5, 7, 11, 13, 17, 19]\n",
    "l2 = [2, 4, 6, 8, 10]\n",
    "\n",
    "products = []\n",
    "\n",
    "for x in l1:\n",
    "    for y in l2:\n",
    "        if (x + y) % 3 == 0:\n",
    "            products.append(x * y)\n",
    "products"
   ]
  },
  {
   "cell_type": "code",
   "execution_count": null,
   "metadata": {
    "deletable": false,
    "nbgrader": {
     "cell_type": "code",
     "checksum": "8b874ca1957da0fe205c9520e6cd69fc",
     "grade": false,
     "grade_id": "cell-c8caea611b1907b3",
     "locked": false,
     "schema_version": 3,
     "solution": true,
     "task": false
    }
   },
   "outputs": [],
   "source": [
    "# YOUR CODE HERE\n",
    "raise NotImplementedError()"
   ]
  },
  {
   "cell_type": "code",
   "execution_count": null,
   "metadata": {
    "deletable": false,
    "editable": false,
    "nbgrader": {
     "cell_type": "code",
     "checksum": "6bca438ef3387389b07dfd435f4f46bb",
     "grade": false,
     "grade_id": "cell-afcf74e4c27c981b",
     "locked": true,
     "schema_version": 3,
     "solution": false,
     "task": false
    }
   },
   "outputs": [],
   "source": [
    "fruits = [\"apple\", \"plum\", \"pear\", \"avocado\"]\n",
    "\n",
    "mtx = []\n",
    "for fruit in fruits:\n",
    "    row = []\n",
    "    for i, c in enumerate(fruit):\n",
    "        row.append(c * (i + 1))\n",
    "    mtx.append(row)\n",
    "\n",
    "mtx"
   ]
  },
  {
   "cell_type": "code",
   "execution_count": null,
   "metadata": {
    "deletable": false,
    "nbgrader": {
     "cell_type": "code",
     "checksum": "a9911105e51f5a421b70b25499f22a8a",
     "grade": false,
     "grade_id": "cell-b2e0df6824c6b028",
     "locked": false,
     "schema_version": 3,
     "solution": true,
     "task": false
    }
   },
   "outputs": [],
   "source": [
    "# YOUR CODE HERE\n",
    "raise NotImplementedError()"
   ]
  },
  {
   "cell_type": "code",
   "execution_count": null,
   "metadata": {
    "deletable": false,
    "editable": false,
    "nbgrader": {
     "cell_type": "code",
     "checksum": "14ee78368f7cadebe0f0d30a09673e48",
     "grade": false,
     "grade_id": "cell-2e6122253a01c5b4",
     "locked": true,
     "schema_version": 3,
     "solution": false,
     "task": false
    }
   },
   "outputs": [],
   "source": [
    "text = \"ababaacdsadb\"\n",
    "\n",
    "char_freqs = {}\n",
    "\n",
    "for c in text:\n",
    "    try:\n",
    "        char_freqs[c] += 1\n",
    "    except KeyError:\n",
    "        char_freqs[c] = 1\n",
    "\n",
    "char_freqs"
   ]
  },
  {
   "cell_type": "code",
   "execution_count": null,
   "metadata": {
    "deletable": false,
    "nbgrader": {
     "cell_type": "code",
     "checksum": "b828e27f0e98763930863e46e9437c2a",
     "grade": false,
     "grade_id": "cell-9af4ab90dccea74a",
     "locked": false,
     "schema_version": 3,
     "solution": true,
     "task": false
    }
   },
   "outputs": [],
   "source": [
    "# YOUR CODE HERE\n",
    "raise NotImplementedError()"
   ]
  },
  {
   "cell_type": "code",
   "execution_count": null,
   "metadata": {
    "deletable": false,
    "editable": false,
    "nbgrader": {
     "cell_type": "code",
     "checksum": "07aa8284298c4b1247ab4730844a2aeb",
     "grade": false,
     "grade_id": "cell-2920bfccfa7bdb1b",
     "locked": true,
     "schema_version": 3,
     "solution": false,
     "task": false
    }
   },
   "outputs": [],
   "source": [
    "d1 = {\"a\": 1, \"b\": 3, \"c\": 2}\n",
    "d2 = {\"a\": 2, \"b\": 1}\n",
    "\n",
    "d3 = {}\n",
    "\n",
    "for key in set(d1.keys()) | set(d2.keys()):\n",
    "    max_val = max(d1.get(key, 0), d2.get(key, 0))\n",
    "    d3[key] = max_val\n",
    "\n",
    "d3"
   ]
  },
  {
   "cell_type": "code",
   "execution_count": null,
   "metadata": {
    "deletable": false,
    "nbgrader": {
     "cell_type": "code",
     "checksum": "aa125e3d9bfd164b31473d3527835100",
     "grade": false,
     "grade_id": "cell-269ea11b9d01f4dd",
     "locked": false,
     "schema_version": 3,
     "solution": true,
     "task": false
    }
   },
   "outputs": [],
   "source": [
    "# YOUR CODE HERE\n",
    "raise NotImplementedError()"
   ]
  },
  {
   "cell_type": "markdown",
   "metadata": {
    "deletable": false,
    "editable": false,
    "nbgrader": {
     "cell_type": "markdown",
     "checksum": "802263ccad314d994e4ab761f6614df0",
     "grade": false,
     "grade_id": "cell-6fa790352dd04a35",
     "locked": true,
     "schema_version": 3,
     "solution": false,
     "task": false
    }
   },
   "source": [
    "## 2. Generators"
   ]
  },
  {
   "cell_type": "markdown",
   "metadata": {},
   "source": [
    "### 2.1 Bigram generator\n",
    "Write a generator function that takes a string and generates character bigrams from it:"
   ]
  },
  {
   "cell_type": "code",
   "execution_count": null,
   "metadata": {
    "deletable": false,
    "nbgrader": {
     "cell_type": "code",
     "checksum": "95748303d96333fb258bf025e759aa70",
     "grade": false,
     "grade_id": "cell-e3f683ca2b1a38ff",
     "locked": false,
     "schema_version": 3,
     "solution": true,
     "task": false
    }
   },
   "outputs": [],
   "source": [
    "def get_bigrams(text: str) -> str:\n",
    "    # YOUR CODE HERE\n",
    "    raise NotImplementedError()"
   ]
  },
  {
   "cell_type": "code",
   "execution_count": null,
   "metadata": {
    "deletable": false,
    "editable": false,
    "nbgrader": {
     "cell_type": "code",
     "checksum": "860304a95d7fb0af569fe608f9bec30a",
     "grade": true,
     "grade_id": "cell-a9c433466ba1aab5",
     "locked": true,
     "points": 0,
     "schema_version": 3,
     "solution": false,
     "task": false
    }
   },
   "outputs": [],
   "source": [
    "assert list(get_bigrams(\"abca\")) == [\"ab\", \"bc\", \"ca\"]\n",
    "assert list(get_bigrams(\"\")) == []\n",
    "assert isinstance(get_bigrams(\"a\"), GeneratorType)"
   ]
  },
  {
   "cell_type": "markdown",
   "metadata": {
    "deletable": false,
    "editable": false,
    "nbgrader": {
     "cell_type": "markdown",
     "checksum": "d81e16fb97519bf44e0a909738c4b4b0",
     "grade": false,
     "grade_id": "cell-0cfd42097b3b2748",
     "locked": true,
     "schema_version": 3,
     "solution": false,
     "task": false
    }
   },
   "source": [
    "### 2.2 Generators with memory\n",
    "\n",
    "Write a generator function that remembers the previous element and yields it beside the current one."
   ]
  },
  {
   "cell_type": "code",
   "execution_count": null,
   "metadata": {
    "deletable": false,
    "nbgrader": {
     "cell_type": "code",
     "checksum": "09f224c4d6efc216da14ccb3cb29d4c7",
     "grade": false,
     "grade_id": "cell-993c1f55e59af7f8",
     "locked": false,
     "schema_version": 3,
     "solution": true,
     "task": false
    }
   },
   "outputs": [],
   "source": [
    "def iter_with_memory(orig_iter):\n",
    "    # YOUR CODE HERE\n",
    "    raise NotImplementedError()"
   ]
  },
  {
   "cell_type": "markdown",
   "metadata": {
    "deletable": false,
    "editable": false,
    "nbgrader": {
     "cell_type": "markdown",
     "checksum": "e1930df151163f95dc52375959744f38",
     "grade": false,
     "grade_id": "cell-4b9176d605305c16",
     "locked": true,
     "schema_version": 3,
     "solution": false,
     "task": false
    }
   },
   "source": [
    "## ================ GRADED PART ================"
   ]
  },
  {
   "cell_type": "markdown",
   "metadata": {},
   "source": [
    "## 3. Graded exercises"
   ]
  },
  {
   "cell_type": "markdown",
   "metadata": {
    "deletable": false,
    "editable": false,
    "nbgrader": {
     "cell_type": "markdown",
     "checksum": "c426a0b0890794ae0523a417adfc915a",
     "grade": false,
     "grade_id": "cell-5be6d18cc269c7d9",
     "locked": true,
     "schema_version": 3,
     "solution": false,
     "task": false
    }
   },
   "source": [
    "### 3.1 Formatted printing with comprehensions [6 points]\n",
    "\n",
    "Given a list of lists of students, print them in the following format with one print invocation. You can find similar examples in Lecture 11."
   ]
  },
  {
   "cell_type": "code",
   "execution_count": 3,
   "metadata": {
    "deletable": false,
    "editable": false,
    "nbgrader": {
     "cell_type": "code",
     "checksum": "b79bac520831d76ca9a0de3e7c4dc76e",
     "grade": false,
     "grade_id": "cell-cad5948bd5934395",
     "locked": true,
     "schema_version": 3,
     "solution": false,
     "task": false
    }
   },
   "outputs": [],
   "source": [
    "all_students = [\n",
    "    [\"Joe\", \"John\", \"Mary\"],\n",
    "    [\"Tina\", \"Tony\", \"Jeff\", \"Bela\"],\n",
    "    [\"Pete\", \"Dave\"],\n",
    "]"
   ]
  },
  {
   "cell_type": "markdown",
   "metadata": {
    "deletable": false,
    "editable": false,
    "nbgrader": {
     "cell_type": "markdown",
     "checksum": "991d972f766d0f3c76cf56350c56df3d",
     "grade": false,
     "grade_id": "cell-17e5f552c9ba724e",
     "locked": true,
     "schema_version": 3,
     "solution": false,
     "task": false
    }
   },
   "source": [
    "One class-per-line and print the size of the class too\n",
    "\n",
    "~~~\n",
    "class 1, size: 3, students: Joe, John, Mary\n",
    "class 2, size: 4, students: Tina, Tony, Jeff, Bela\n",
    "class 3, size: 2, students: Pete, Dave\n",
    "~~~"
   ]
  },
  {
   "cell_type": "code",
   "execution_count": 10,
   "metadata": {
    "deletable": false,
    "nbgrader": {
     "cell_type": "code",
     "checksum": "0e66d848305817162e1e395b46f736c8",
     "grade": false,
     "grade_id": "cell-cc231a351b5a051f",
     "locked": false,
     "schema_version": 3,
     "solution": true,
     "task": false
    }
   },
   "outputs": [],
   "source": [
    "def print_students(all_students: List[List[str]]):\n",
    "    print(\"\".join(f\"class {idx + 1}, size: {len(students)}, students: \" + \", \".join(f\"{student}\" for student in students) + \"\\n\" for idx, students in enumerate(all_students)))"
   ]
  },
  {
   "cell_type": "code",
   "execution_count": 11,
   "metadata": {
    "deletable": false,
    "editable": false,
    "nbgrader": {
     "cell_type": "code",
     "checksum": "fa5a1f88825f81e03fcfb2fad223c8b2",
     "grade": true,
     "grade_id": "cell-d540370d23ed6e0a",
     "locked": true,
     "points": 3,
     "schema_version": 3,
     "solution": false,
     "task": false
    }
   },
   "outputs": [],
   "source": [
    "f = io.StringIO()\n",
    "with redirect_stdout(f):\n",
    "    print_students(all_students)\n",
    "s = f.getvalue()\n",
    "\n",
    "assert s.strip() == \"class 1, size: 3, students: Joe, John, Mary\\nclass 2, size: 4, students: Tina, Tony, Jeff, Bela\\nclass 3, size: 2, students: Pete, Dave\""
   ]
  },
  {
   "cell_type": "markdown",
   "metadata": {
    "deletable": false,
    "editable": false,
    "nbgrader": {
     "cell_type": "markdown",
     "checksum": "66bdfd74d06e28572d458e9d15fd1ac8",
     "grade": false,
     "grade_id": "cell-98c259374e84a07a",
     "locked": true,
     "schema_version": 3,
     "solution": false,
     "task": false
    }
   },
   "source": [
    "Sort the classes by size in increasing order\n",
    "\n",
    "~~~\n",
    "class 3, size: 2, students: Pete, Dave\n",
    "class 1, size: 3, students: Joe, John, Mary\n",
    "class 2, size: 4, students: Tina, Tony, Jeff, Bela\n",
    "~~~"
   ]
  },
  {
   "cell_type": "code",
   "execution_count": 14,
   "metadata": {
    "deletable": false,
    "nbgrader": {
     "cell_type": "code",
     "checksum": "884c2510e220dcff2dec26634049d84e",
     "grade": false,
     "grade_id": "cell-7b6657c1ef2e4231",
     "locked": false,
     "schema_version": 3,
     "solution": true,
     "task": false
    }
   },
   "outputs": [],
   "source": [
    "def print_ordered_students(all_students: List[List[str]]):\n",
    "    # YOUR CODE HERE\n",
    "    print(\"\".join(f\"class {all_students.index(students) + 1}, size: {len(students)}, students: \" + \", \".join(f\"{student}\" for student in students) + \"\\n\" for idx, students in\n",
    "                  enumerate(sorted(all_students, key=len))))"
   ]
  },
  {
   "cell_type": "code",
   "execution_count": 15,
   "metadata": {
    "deletable": false,
    "editable": false,
    "nbgrader": {
     "cell_type": "code",
     "checksum": "401d05eb7b2e0f69a727369f161cdce5",
     "grade": true,
     "grade_id": "cell-cf7b5a337c36691a",
     "locked": true,
     "points": 3,
     "schema_version": 3,
     "solution": false,
     "task": false
    }
   },
   "outputs": [],
   "source": [
    "f = io.StringIO()\n",
    "with redirect_stdout(f):\n",
    "    print_ordered_students(all_students)\n",
    "s = f.getvalue()\n",
    "\n",
    "assert s.strip() == \"class 3, size: 2, students: Pete, Dave\\nclass 1, size: 3, students: Joe, John, Mary\\nclass 2, size: 4, students: Tina, Tony, Jeff, Bela\""
   ]
  },
  {
   "cell_type": "markdown",
   "metadata": {},
   "source": [
    "### 3.2 Generators"
   ]
  },
  {
   "cell_type": "markdown",
   "metadata": {
    "deletable": false,
    "editable": false,
    "nbgrader": {
     "cell_type": "markdown",
     "checksum": "7b18a727a0720a060ca5339e6dd3c326",
     "grade": false,
     "grade_id": "cell-6ba3b1a95ef03d8d",
     "locked": true,
     "schema_version": 3,
     "solution": false,
     "task": false
    }
   },
   "source": [
    "#### 3.2.1 N-gram generator [3 points]\n",
    "\n",
    "Change the function in the 2nd exercise so that it can generate n-grams. N should be a parameter of the function."
   ]
  },
  {
   "cell_type": "code",
   "execution_count": 25,
   "metadata": {
    "deletable": false,
    "nbgrader": {
     "cell_type": "code",
     "checksum": "e28555d0db753a090c7bb57199dc796d",
     "grade": false,
     "grade_id": "cell-07f2eb9be62b41bf",
     "locked": false,
     "schema_version": 3,
     "solution": true,
     "task": false
    }
   },
   "outputs": [],
   "source": [
    "def get_ngrams(text: str, n: int) -> str:\n",
    "    # YOUR CODE HERE\n",
    "    return (text[idx:(idx + n)] for idx in range(len(text) - n + 1))"
   ]
  },
  {
   "cell_type": "code",
   "execution_count": 26,
   "metadata": {
    "deletable": false,
    "editable": false,
    "nbgrader": {
     "cell_type": "code",
     "checksum": "f1ec41fb327bc8d0ebfebee7215a6a13",
     "grade": true,
     "grade_id": "cell-4117b15c31f462b3",
     "locked": true,
     "points": 3,
     "schema_version": 3,
     "solution": false,
     "task": false
    }
   },
   "outputs": [],
   "source": [
    "assert list(get_ngrams(\"abca\", 2)) == [\"ab\", \"bc\", \"ca\"]\n",
    "assert list(get_ngrams(\"abca\", 3)) == [\"abc\", \"bca\"]\n",
    "assert list(get_ngrams(\"abca\", 3)) == [\"abc\", \"bca\"]\n",
    "assert isinstance(get_ngrams(\"a\", 1), GeneratorType)"
   ]
  },
  {
   "cell_type": "markdown",
   "metadata": {},
   "source": [
    "#### 3.2.2 Generator with memory [6 points]\n",
    "Write a generatior that takes an iterator and a memory size `k` and yields a tuple of k elements from the iterator."
   ]
  },
  {
   "cell_type": "code",
   "execution_count": 40,
   "metadata": {
    "deletable": false,
    "nbgrader": {
     "cell_type": "code",
     "checksum": "fb700e6d1b0081fe2fbf497654be7df4",
     "grade": false,
     "grade_id": "cell-213760247532dbf9",
     "locked": false,
     "schema_version": 3,
     "solution": true,
     "task": false
    }
   },
   "outputs": [],
   "source": [
    "def iter_with_k_memory(orig_iter: Iterable, k: int) -> Tuple[Any]:\n",
    "    # YOUR CODE HERE\n",
    "    for i, y in enumerate(orig_iter):\n",
    "        curr = ()\n",
    "        for x in range(k):\n",
    "            if x - i <= 0:\n",
    "                curr += (orig_iter[i - x],)\n",
    "            else:\n",
    "                curr += (None,)\n",
    "        yield curr"
   ]
  },
  {
   "cell_type": "code",
   "execution_count": 41,
   "metadata": {
    "deletable": false,
    "editable": false,
    "nbgrader": {
     "cell_type": "code",
     "checksum": "86899bc6c0b387581e20f99e87076227",
     "grade": true,
     "grade_id": "cell-10d456c5035c4b76",
     "locked": true,
     "points": 6,
     "schema_version": 3,
     "solution": false,
     "task": false
    }
   },
   "outputs": [],
   "source": [
    "l = list(range(3))\n",
    "assert list(iter_with_k_memory(l, 3)) == [(0, None, None), (1, 0, None), (2, 1, 0)]\n",
    "assert list(iter_with_k_memory(l, 1)) == [(0,), (1,), (2,)]\n",
    "assert isinstance(iter_with_k_memory([], 1), GeneratorType)"
   ]
  },
  {
   "cell_type": "markdown",
   "metadata": {},
   "source": [
    "### 3.3 Functional python"
   ]
  },
  {
   "cell_type": "markdown",
   "metadata": {},
   "source": [
    "#### 3.3.1 Map [3 points]\n",
    "\n",
    "Write a function that returns the uppercase version of a letter, if it was lower case and lower case if it was upper case. Use the map function to transform a string this way."
   ]
  },
  {
   "cell_type": "code",
   "execution_count": 42,
   "metadata": {
    "deletable": false,
    "nbgrader": {
     "cell_type": "code",
     "checksum": "1b5f48a5e4c598191971fc0a409c16e5",
     "grade": false,
     "grade_id": "cell-aef25ccd30b50c67",
     "locked": false,
     "schema_version": 3,
     "solution": true,
     "task": false
    }
   },
   "outputs": [],
   "source": [
    "def upper_lower(character: str) -> str:\n",
    "    # YOUR CODE HERE\n",
    "    return character.swapcase()"
   ]
  },
  {
   "cell_type": "code",
   "execution_count": 43,
   "metadata": {
    "deletable": false,
    "editable": false,
    "nbgrader": {
     "cell_type": "code",
     "checksum": "42217effe47f23451361caecb5b901b2",
     "grade": true,
     "grade_id": "cell-d67a26f3aaf855bf",
     "locked": true,
     "points": 3,
     "schema_version": 3,
     "solution": false,
     "task": false
    }
   },
   "outputs": [],
   "source": [
    "assert \"\".join(list(map(upper_lower, \"This iS A nOrmAl SentEnce\"))) == \"tHIS Is a NoRMaL sENTeNCE\"\n",
    "assert \"\".join(list(map(upper_lower, \"AbSoLuTe MADness\"))) == \"aBsOlUtE madNESS\""
   ]
  },
  {
   "cell_type": "markdown",
   "metadata": {
    "deletable": false,
    "editable": false,
    "nbgrader": {
     "cell_type": "markdown",
     "checksum": "a96c514b6d798a28a962ae9447fae7d2",
     "grade": false,
     "grade_id": "cell-f56952c2a3e67e00",
     "locked": true,
     "schema_version": 3,
     "solution": false,
     "task": false
    }
   },
   "source": [
    "#### 3.3.2 Filter [3 points]\n",
    "\n",
    "Write a function that can be used with filter to filter out numeric characters in a string."
   ]
  },
  {
   "cell_type": "code",
   "execution_count": 48,
   "metadata": {
    "deletable": false,
    "nbgrader": {
     "cell_type": "code",
     "checksum": "935355a0d9ccf36c258cdc1ff3f01271",
     "grade": false,
     "grade_id": "cell-ec81b4f71ad41351",
     "locked": false,
     "schema_version": 3,
     "solution": true,
     "task": false
    }
   },
   "outputs": [],
   "source": [
    "def just_alphabet(character: str) -> bool:\n",
    "    # YOUR CODE HERE\n",
    "    return not character.isdigit()"
   ]
  },
  {
   "cell_type": "code",
   "execution_count": 49,
   "metadata": {
    "deletable": false,
    "editable": false,
    "nbgrader": {
     "cell_type": "code",
     "checksum": "44eaf774b2e2a50153240bf5d702df6e",
     "grade": true,
     "grade_id": "cell-bec2c98a12c3ba20",
     "locked": true,
     "points": 3,
     "schema_version": 3,
     "solution": false,
     "task": false
    }
   },
   "outputs": [],
   "source": [
    "assert \"\".join(list(filter(just_alphabet, \"LE3T'S G0O\"))) == \"LET'S GO\"\n",
    "assert \"\".join(list(filter(just_alphabet, \"4321\"))) == \"\""
   ]
  },
  {
   "cell_type": "markdown",
   "metadata": {
    "deletable": false,
    "editable": false,
    "nbgrader": {
     "cell_type": "markdown",
     "checksum": "740ebbc00f1d10ee5e49b29ec31a3988",
     "grade": false,
     "grade_id": "cell-a764e5883c60f784",
     "locked": true,
     "schema_version": 3,
     "solution": false,
     "task": false
    }
   },
   "source": [
    "#### 3.3.3 Reduce [4 points]\n",
    "\n",
    "Write a function that can concatenate any elements together as strings. Use the reduce function to demonstrate."
   ]
  },
  {
   "cell_type": "code",
   "execution_count": 52,
   "metadata": {
    "deletable": false,
    "nbgrader": {
     "cell_type": "code",
     "checksum": "cb81c076ab1b96701670622b24b4ff31",
     "grade": false,
     "grade_id": "cell-40d5eacebbe06cf7",
     "locked": false,
     "schema_version": 3,
     "solution": true,
     "task": false
    }
   },
   "outputs": [],
   "source": [
    "def concat(string1: str, string2: Any) -> str:\n",
    "    # YOUR CODE HERE\n",
    "    return string1 + str(string2)"
   ]
  },
  {
   "cell_type": "code",
   "execution_count": 53,
   "metadata": {
    "deletable": false,
    "editable": false,
    "nbgrader": {
     "cell_type": "code",
     "checksum": "a32954efcf644119530dc4e2227e0aa7",
     "grade": true,
     "grade_id": "cell-d0e7ea0f483ba9d8",
     "locked": true,
     "points": 4,
     "schema_version": 3,
     "solution": false,
     "task": false
    }
   },
   "outputs": [],
   "source": [
    "assert reduce(concat, [\"I\", \"\\'\", \"ve\", \" learned\", \" P\", \"ytho\", \"n\", \" <\", 3], \"\") == \"I've learned Python <3\"\n",
    "assert reduce(concat, [], \"\") == \"\"\n",
    "assert reduce(concat, [\"2\", 2, 3.2, (3, 2), {2: 3}], \"\") == \"223.2(3, 2){2: 3}\""
   ]
  }
 ],
 "metadata": {
  "kernelspec": {
   "display_name": "Python 3 (ipykernel)",
   "language": "python",
   "name": "python3"
  },
  "language_info": {
   "codemirror_mode": {
    "name": "ipython",
    "version": 3
   },
   "file_extension": ".py",
   "mimetype": "text/x-python",
   "name": "python",
   "nbconvert_exporter": "python",
   "pygments_lexer": "ipython3",
   "version": "3.10.4"
  },
  "toc": {
   "base_numbering": 1,
   "nav_menu": {},
   "number_sections": true,
   "sideBar": true,
   "skip_h1_title": false,
   "title_cell": "Table of Contents",
   "title_sidebar": "Contents",
   "toc_cell": false,
   "toc_position": {},
   "toc_section_display": true,
   "toc_window_display": true
  },
  "vscode": {
   "interpreter": {
    "hash": "31f2aee4e71d21fbe5cf8b01ff0e069b9275f58929596ceb00d14d90e3e16cd6"
   }
  }
 },
 "nbformat": 4,
 "nbformat_minor": 2
}
