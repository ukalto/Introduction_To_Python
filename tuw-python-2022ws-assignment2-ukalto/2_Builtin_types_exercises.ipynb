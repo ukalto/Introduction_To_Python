{
 "cells": [
  {
   "cell_type": "markdown",
   "metadata": {
    "deletable": false,
    "editable": false,
    "nbgrader": {
     "cell_type": "markdown",
     "checksum": "880abeff0ad43082ade59a7d00703ef1",
     "grade": false,
     "grade_id": "cell-b32cc7a0861f7655",
     "locked": true,
     "schema_version": 3,
     "solution": false,
     "task": false
    }
   },
   "source": [
    "# Programming in Python\n",
    "\n",
    "__Laboratory 02, Type system and built-in types__\n",
    "\n",
    "__Sept 27, 2022__\n",
    "\n",
    "__Submission deadline: Sept 29 23:59__\n",
    "\n",
    "__Submissions must be made through Github Classroom__\n",
    "\n",
    "Some exercises are graded.\n",
    "The maximum score you can get is 25 points.\n",
    "The score value of graded exercises is listed in the instructions.\n",
    "\n",
    "You are free to use any material (lecture, Stackoverflow etc.) except full solutions but you should first try to figure them out on your own.\n",
    "\n",
    "We use an [nbgrader](https://nbgrader.readthedocs.io/en/stable/index.html) for autograding the assignments. Many cells are read-only. Please **DO NOT** delete or copy cells. You can add new cells but your solutions should go into the designated cells.\n",
    "\n",
    "We will use the wikipedia module for some exercises. It can be installed by running pip from Jupyter:\n",
    "\n",
    "The Python Standard Library has solutions for many of these tasks but you should solve them without relying on the standard library."
   ]
  },
  {
   "cell_type": "markdown",
   "metadata": {},
   "source": [
    "We will use the `wikipedia` module in notebook."
   ]
  },
  {
   "cell_type": "code",
   "execution_count": 1,
   "metadata": {},
   "outputs": [
    {
     "name": "stdout",
     "output_type": "stream",
     "text": [
      "Collecting wikipedia\n",
      "  Using cached wikipedia-1.4.0.tar.gz (27 kB)\n",
      "  Preparing metadata (setup.py): started\n",
      "  Preparing metadata (setup.py): finished with status 'done'\n",
      "Requirement already satisfied: beautifulsoup4 in c:\\users\\maxig\\appdata\\local\\programs\\python\\python39\\lib\\site-packages (from wikipedia) (4.11.1)\n",
      "Collecting requests<3.0.0,>=2.0.0\n",
      "  Downloading requests-2.28.1-py3-none-any.whl (62 kB)\n",
      "Collecting certifi>=2017.4.17\n",
      "  Downloading certifi-2022.9.24-py3-none-any.whl (161 kB)\n",
      "Collecting urllib3<1.27,>=1.21.1\n",
      "  Downloading urllib3-1.26.12-py2.py3-none-any.whl (140 kB)\n",
      "Collecting idna<4,>=2.5\n",
      "  Downloading idna-3.4-py3-none-any.whl (61 kB)\n",
      "Collecting charset-normalizer<3,>=2\n",
      "  Downloading charset_normalizer-2.1.1-py3-none-any.whl (39 kB)\n",
      "Requirement already satisfied: soupsieve>1.2 in c:\\users\\maxig\\appdata\\local\\programs\\python\\python39\\lib\\site-packages (from beautifulsoup4->wikipedia) (2.3.2.post1)\n",
      "Using legacy 'setup.py install' for wikipedia, since package 'wheel' is not installed.\n",
      "Installing collected packages: urllib3, idna, charset-normalizer, certifi, requests, wikipedia\n",
      "    Running setup.py install for wikipedia: started\n",
      "    Running setup.py install for wikipedia: finished with status 'done'\n",
      "Successfully installed certifi-2022.9.24 charset-normalizer-2.1.1 idna-3.4 requests-2.28.1 urllib3-1.26.12 wikipedia-1.4.0\n"
     ]
    },
    {
     "name": "stderr",
     "output_type": "stream",
     "text": [
      "WARNING: You are using pip version 21.3.1; however, version 22.2.2 is available.\n",
      "You should consider upgrading via the 'c:\\users\\maxig\\appdata\\local\\programs\\python\\python39\\python.exe -m pip install --upgrade pip' command.\n"
     ]
    }
   ],
   "source": [
    "import math\n",
    "! pip install wikipedia"
   ]
  },
  {
   "cell_type": "markdown",
   "metadata": {
    "deletable": false,
    "editable": false,
    "nbgrader": {
     "cell_type": "markdown",
     "checksum": "278581dc95c79f1f6dae5c7fd4e46355",
     "grade": false,
     "grade_id": "cell-76aee6a76b5a3976",
     "locked": true,
     "schema_version": 3,
     "solution": false,
     "task": false
    }
   },
   "source": [
    "# 1. Define a function that takes a sequence as its input and returns whether the sequence is symmetric. A sequence is symmetric if it is equal to its reverse."
   ]
  },
  {
   "cell_type": "code",
   "execution_count": 18,
   "metadata": {
    "deletable": false,
    "nbgrader": {
     "cell_type": "code",
     "checksum": "fa5cf582d5918fcc3f83632867234881",
     "grade": false,
     "grade_id": "cell-9063e2fba9c7157d",
     "locked": false,
     "schema_version": 3,
     "solution": true,
     "task": false
    }
   },
   "outputs": [],
   "source": [
    "# YOUR CODE HERE\n",
    "def is_symmetric(input):\n",
    "    return input == input[::-1]"
   ]
  },
  {
   "cell_type": "code",
   "execution_count": 19,
   "metadata": {
    "deletable": false,
    "editable": false,
    "nbgrader": {
     "cell_type": "code",
     "checksum": "53030b3050410ac3dd0c4b6548bce575",
     "grade": true,
     "grade_id": "cell-58b3ad7e361196e7",
     "locked": true,
     "points": 0,
     "schema_version": 3,
     "solution": false,
     "task": false
    }
   },
   "outputs": [],
   "source": [
    "assert is_symmetric([1]) is True\n",
    "assert is_symmetric([None, None]) is True\n",
    "assert is_symmetric([]) is True\n",
    "assert is_symmetric([1, 2, 3, 1]) is False\n",
    "assert is_symmetric([1, \"foo\", \"bar\", \"foo\", 1]) is True\n",
    "assert is_symmetric(\"abcba\") is True\n",
    "assert is_symmetric(list(range(100)) + list(range(99, -1, -1))) is True\n",
    "assert is_symmetric(list(range(100)) + list(range(100, 0, -1))) is False\n",
    "assert is_symmetric([1, \"1\"]) is False"
   ]
  },
  {
   "cell_type": "markdown",
   "metadata": {},
   "source": [
    "# String manipulation"
   ]
  },
  {
   "cell_type": "markdown",
   "metadata": {
    "deletable": false,
    "editable": false,
    "nbgrader": {
     "cell_type": "markdown",
     "checksum": "d7145e1374fb5649087517a5329eab1f",
     "grade": false,
     "grade_id": "cell-31ee0faefb4af111",
     "locked": true,
     "schema_version": 3,
     "solution": false,
     "task": false
    }
   },
   "source": [
    "## 2.1 Define a function that takes a string as its input and return a dictionary with the character frequencies.\n",
    "\n",
    "Do not use the `collections` module."
   ]
  },
  {
   "cell_type": "code",
   "execution_count": 22,
   "metadata": {
    "deletable": false,
    "nbgrader": {
     "cell_type": "code",
     "checksum": "8506743122a0b94c80856ef506a52943",
     "grade": false,
     "grade_id": "cell-7fbaf8610be225a9",
     "locked": false,
     "schema_version": 3,
     "solution": true,
     "task": false
    }
   },
   "outputs": [],
   "source": [
    "# YOUR CODE HERE\n",
    "def char_freq(text):\n",
    "    dict = {}\n",
    "    for i in text:\n",
    "        if i in dict:\n",
    "            dict[i] += 1\n",
    "        else:\n",
    "            dict[i] = 1\n",
    "    return dict"
   ]
  },
  {
   "cell_type": "code",
   "execution_count": 23,
   "metadata": {
    "deletable": false,
    "editable": false,
    "nbgrader": {
     "cell_type": "code",
     "checksum": "acdcafaae2c18bb26e0756eaa5f46784",
     "grade": true,
     "grade_id": "cell-ecedb93a6c391539",
     "locked": true,
     "points": 1,
     "schema_version": 3,
     "solution": false,
     "task": false
    }
   },
   "outputs": [],
   "source": [
    "assert char_freq(\"aba\") == {\"a\": 2, \"b\": 1}\n",
    "assert char_freq(\"\") == {}\n",
    "assert char_freq(\"ab\" * 100 + \"cd\") == {\"a\": 100, \"b\": 100, \"c\": 1, \"d\": 1}"
   ]
  },
  {
   "cell_type": "markdown",
   "metadata": {
    "deletable": false,
    "editable": false,
    "nbgrader": {
     "cell_type": "markdown",
     "checksum": "75b1d50a7420617534fcb14f0655ef26",
     "grade": false,
     "grade_id": "cell-ec941b4366dbd59f",
     "locked": true,
     "schema_version": 3,
     "solution": false,
     "task": false
    }
   },
   "source": [
    "## 2.2 (1p) Define a function that computes word frequencies in a text.\n",
    "\n",
    "You can split the text with `text.split()`."
   ]
  },
  {
   "cell_type": "code",
   "execution_count": 24,
   "metadata": {
    "deletable": false,
    "nbgrader": {
     "cell_type": "code",
     "checksum": "bf8a0b5a81497db7772c518226de81b4",
     "grade": false,
     "grade_id": "cell-4d4d473dd807f962",
     "locked": false,
     "schema_version": 3,
     "solution": true,
     "task": false
    }
   },
   "outputs": [],
   "source": [
    "# YOUR CODE HERE\n",
    "def word_freq(text):\n",
    "    dict = {}\n",
    "    t = text.split(\" \") if len(text) != 0 else {}\n",
    "    for i in t:\n",
    "        if i in dict:\n",
    "            dict[i] += 1\n",
    "        else:\n",
    "            dict[i] = 1\n",
    "    return dict"
   ]
  },
  {
   "cell_type": "code",
   "execution_count": 25,
   "metadata": {
    "deletable": false,
    "editable": false,
    "nbgrader": {
     "cell_type": "code",
     "checksum": "8f6ef3c72803eddabaf6cae96540fd4d",
     "grade": true,
     "grade_id": "cell-1c299c2c935129e7",
     "locked": true,
     "points": 0,
     "schema_version": 3,
     "solution": false,
     "task": false
    }
   },
   "outputs": [],
   "source": [
    "s = \"the green tea and the black tea\"\n",
    "assert word_freq(s) == {\"the\": 2, \"tea\": 2, \"green\": 1, \"black\": 1, \"and\": 1}\n",
    "assert word_freq(\"\") == {}"
   ]
  },
  {
   "cell_type": "markdown",
   "metadata": {
    "deletable": false,
    "editable": false,
    "nbgrader": {
     "cell_type": "markdown",
     "checksum": "b0f06ec50f0507bb0937ff5ced9330a3",
     "grade": false,
     "grade_id": "cell-82d37f261c619b9e",
     "locked": true,
     "schema_version": 3,
     "solution": false,
     "task": false
    }
   },
   "source": [
    "## 2.3 (2p) Define a function that takes two strings and decides whether they are anagrams. A string is an anagram of another string if its letters can be rearranged so that it equals the other string.¶\n",
    "\n",
    "For example:\n",
    "\n",
    "```\n",
    "abc -- bac\n",
    "aabb -- abab\n",
    "```\n",
    "\n",
    "Counter examples:\n",
    "\n",
    "```\n",
    "abc -- aabc\n",
    "abab -- aaab\n",
    "```"
   ]
  },
  {
   "cell_type": "code",
   "execution_count": 26,
   "metadata": {
    "deletable": false,
    "nbgrader": {
     "cell_type": "code",
     "checksum": "239926542f0f02b5b5ff53eb054593d4",
     "grade": false,
     "grade_id": "cell-7ea849b6ffc4421a",
     "locked": false,
     "schema_version": 3,
     "solution": true,
     "task": false
    }
   },
   "outputs": [],
   "source": [
    "# YOUR CODE HERE\n",
    "def are_anagrams(t1, t2):\n",
    "    return char_freq(t1) == char_freq(t2)"
   ]
  },
  {
   "cell_type": "code",
   "execution_count": 27,
   "metadata": {
    "deletable": false,
    "editable": false,
    "nbgrader": {
     "cell_type": "code",
     "checksum": "6bf76b10878810a731e42bb6d3b7feb3",
     "grade": true,
     "grade_id": "cell-231f78d971a5d48b",
     "locked": true,
     "points": 2,
     "schema_version": 3,
     "solution": false,
     "task": false
    }
   },
   "outputs": [],
   "source": [
    "assert are_anagrams(\"\", \"\") is True\n",
    "assert are_anagrams(\"abc\", \"bac\") is True\n",
    "assert are_anagrams(\"aabb\", \"abab\") is True\n",
    "assert are_anagrams(\"abab\", \"aaab\") is False"
   ]
  },
  {
   "cell_type": "markdown",
   "metadata": {
    "deletable": false,
    "editable": false,
    "nbgrader": {
     "cell_type": "markdown",
     "checksum": "f2a8d18e481ff61915c28c7343c1dab3",
     "grade": false,
     "grade_id": "cell-c7ab3adcb5a39bac",
     "locked": true,
     "schema_version": 3,
     "solution": false,
     "task": false
    }
   },
   "source": [
    "## 2.4 (2p) Define a function that takes a string and returns its bigram frequencies as a dictionary.\n",
    "\n",
    "Character bigrams are pairs of subsequent characters. For example word apple contains the following bigrams: ap, pp, pl, le.\n",
    "\n",
    "Do not use the `collections` module."
   ]
  },
  {
   "cell_type": "code",
   "execution_count": 28,
   "metadata": {
    "deletable": false,
    "nbgrader": {
     "cell_type": "code",
     "checksum": "cb4f46142309d3a4026db197d82c46db",
     "grade": false,
     "grade_id": "cell-2669edc3d29b28b6",
     "locked": false,
     "schema_version": 3,
     "solution": true,
     "task": false
    }
   },
   "outputs": [],
   "source": [
    "# YOUR CODE HERE\n",
    "def get_char_bigrams(text):\n",
    "    dict = {}\n",
    "    for i in range(len(text) - 1):\n",
    "        if i == 0:\n",
    "            dict[text[0] + text[1]] = 1\n",
    "        else:\n",
    "            word = text[i] + text[i + 1]\n",
    "            if word in dict:\n",
    "                dict[word] += 1\n",
    "            else:\n",
    "                dict[word] = 1\n",
    "    return dict"
   ]
  },
  {
   "cell_type": "code",
   "execution_count": 29,
   "metadata": {
    "deletable": false,
    "editable": false,
    "nbgrader": {
     "cell_type": "code",
     "checksum": "7e547fa81e2763807d969ae959242333",
     "grade": true,
     "grade_id": "cell-5a3764a1d0909393",
     "locked": true,
     "points": 2,
     "schema_version": 3,
     "solution": false,
     "task": false
    }
   },
   "outputs": [],
   "source": [
    "assert get_char_bigrams(\"apple\") == {\"ap\": 1, \"pp\": 1, \"pl\": 1, \"le\": 1}\n",
    "assert get_char_bigrams(\"apple apple\") == {\n",
    "    \"ap\": 2,\n",
    "    \"pp\": 2,\n",
    "    \"pl\": 2,\n",
    "    \"le\": 2,\n",
    "    \"e \": 1,\n",
    "    \" a\": 1,\n",
    "}"
   ]
  },
  {
   "cell_type": "markdown",
   "metadata": {
    "deletable": false,
    "editable": false,
    "nbgrader": {
     "cell_type": "markdown",
     "checksum": "b7a0504ee16c0ac64f74aeae3018869b",
     "grade": false,
     "grade_id": "cell-843a6eedcc531992",
     "locked": true,
     "schema_version": 3,
     "solution": false,
     "task": false
    }
   },
   "source": [
    "# Wikipedia module\n",
    "\n",
    "The following exercises use the `wikipedia` package. The basic usage is illustrated below.\n",
    "\n",
    "The documentation is available [here](https://pypi.python.org/pypi/wikipedia/).\n",
    "\n",
    "Searching for pages:"
   ]
  },
  {
   "cell_type": "code",
   "execution_count": 30,
   "metadata": {},
   "outputs": [
    {
     "data": {
      "text/plain": "['Vienna',\n 'Congress of Vienna',\n 'Vienna sausage',\n 'Battle of Vienna',\n 'Vienna Teng',\n 'Vienna Award',\n 'Austria',\n 'Treaty of Vienna',\n 'BC Vienna',\n 'Vienna Beef']"
     },
     "execution_count": 30,
     "metadata": {},
     "output_type": "execute_result"
    }
   ],
   "source": [
    "import wikipedia\n",
    "\n",
    "results = wikipedia.search(\"Vienna\")\n",
    "results"
   ]
  },
  {
   "cell_type": "markdown",
   "metadata": {
    "deletable": false,
    "editable": false,
    "nbgrader": {
     "cell_type": "markdown",
     "checksum": "42e7bc1a469601ae635fe2d7d8f428ac",
     "grade": false,
     "grade_id": "cell-78e29f2660bc6fbf",
     "locked": true,
     "schema_version": 3,
     "solution": false,
     "task": false
    }
   },
   "source": [
    "Downloading an article:"
   ]
  },
  {
   "cell_type": "code",
   "execution_count": 6,
   "metadata": {},
   "outputs": [
    {
     "data": {
      "text/plain": "'Budapest (UK: , US: ; Hungarian pronunciation: [ˈbudɑpɛʃt] (listen)) is the capital and most populous city of Hungary. It is the ninth-largest city in the European Union by population within city limits and the second-largest city on the Danube river; the city has an estimated population of 1,752,286 over a land area of about 525 square kilometres (203 square miles). Budapest, which is both a city and county, forms the centre of the Budapest metropolitan area, which has an area of 7,626 square kilometres (2,944 square miles) and a population of 3,303,786, comprising 33% of the population of Hungary.The history of Budapest began when an early Celtic settlement transformed into the Roman town of Aquincum, the capital of Lower Pannonia. The Hungarians arrived in the territory in the late 9th century, but the area was pillaged by the Mongols in 1241–42. Re-established Buda became one of the centres of Renaissance humanist culture by the 15th century. The Battle of Mohács, in 1526, was foll'"
     },
     "execution_count": 6,
     "metadata": {},
     "output_type": "execute_result"
    }
   ],
   "source": [
    "article = wikipedia.page(\"Budapest\")\n",
    "\n",
    "article.summary[:1000]"
   ]
  },
  {
   "cell_type": "markdown",
   "metadata": {
    "deletable": false,
    "editable": false,
    "nbgrader": {
     "cell_type": "markdown",
     "checksum": "3b7cd156e6f361932e5cd2eafd0f3888",
     "grade": false,
     "grade_id": "cell-dc32405bbfb31d99",
     "locked": true,
     "schema_version": 3,
     "solution": false,
     "task": false
    }
   },
   "source": [
    "The content attribute contains the full text:"
   ]
  },
  {
   "cell_type": "code",
   "execution_count": 7,
   "metadata": {},
   "outputs": [
    {
     "data": {
      "text/plain": "(str, 86778)"
     },
     "execution_count": 7,
     "metadata": {},
     "output_type": "execute_result"
    }
   ],
   "source": [
    "type(article.content), len(article.content)"
   ]
  },
  {
   "cell_type": "markdown",
   "metadata": {
    "deletable": false,
    "editable": false,
    "nbgrader": {
     "cell_type": "markdown",
     "checksum": "0c48587c5a71b46669047f43917b37f0",
     "grade": false,
     "grade_id": "cell-ebc4708eb9ec8edb",
     "locked": true,
     "schema_version": 3,
     "solution": false,
     "task": false
    }
   },
   "source": [
    "By default the module downloads the English Wikipedia. The language can be changed the following way:"
   ]
  },
  {
   "cell_type": "code",
   "execution_count": 12,
   "metadata": {},
   "outputs": [],
   "source": [
    "wikipedia.set_lang(\"de\")"
   ]
  },
  {
   "cell_type": "code",
   "execution_count": 13,
   "metadata": {},
   "outputs": [
    {
     "data": {
      "text/plain": "['Budapest',\n 'Budapester Memorandum',\n 'Grand Budapest Hotel',\n 'Schlacht um Budapest',\n 'Ungarn',\n 'Budapester',\n 'Parlamentsgebäude (Budapest)',\n 'Metró Budapest',\n 'Budapest (Begriffsklärung)',\n 'Budapest Keleti pályaudvar']"
     },
     "execution_count": 13,
     "metadata": {},
     "output_type": "execute_result"
    }
   ],
   "source": [
    "wikipedia.search(\"Budapest\")"
   ]
  },
  {
   "cell_type": "code",
   "execution_count": 14,
   "metadata": {},
   "outputs": [
    {
     "data": {
      "text/plain": "\"Budapest (ungarische Aussprache ['budɒpɛʃt]; ) ist die Hauptstadt und zugleich größte Stadt Ungarns.\""
     },
     "execution_count": 14,
     "metadata": {},
     "output_type": "execute_result"
    }
   ],
   "source": [
    "de_article = wikipedia.page(\"Budapest\")\n",
    "de_article.summary[:100]"
   ]
  },
  {
   "cell_type": "code",
   "execution_count": 15,
   "metadata": {},
   "outputs": [],
   "source": [
    "wikipedia.set_lang(\"en\")"
   ]
  },
  {
   "cell_type": "markdown",
   "metadata": {
    "deletable": false,
    "editable": false,
    "nbgrader": {
     "cell_type": "markdown",
     "checksum": "fa92e56d609af0b5c7559b090612bbc8",
     "grade": false,
     "grade_id": "cell-95be16d5cc290d23",
     "locked": true,
     "schema_version": 3,
     "solution": false,
     "task": false
    }
   },
   "source": [
    "## 3.1 (5p) Build a small Wikipedia corpus by downloading pages until their character count exceeds 100000. The corpus should be a list of strings.\n",
    "\n",
    "You can download arbitrary pages but some pages redirect to disambiguation pages. You should not pick these. Make sure the same page is not included multiple times."
   ]
  },
  {
   "cell_type": "code",
   "execution_count": 16,
   "metadata": {
    "deletable": false,
    "nbgrader": {
     "cell_type": "code",
     "checksum": "04c921ddca419c1b935dfad982d37f2b",
     "grade": false,
     "grade_id": "cell-2e7be91b99158dca",
     "locked": false,
     "schema_version": 3,
     "solution": true,
     "task": false
    }
   },
   "outputs": [],
   "source": [
    "# YOUR CODE HERE\n",
    "import random\n",
    "import string\n",
    "\n",
    "\n",
    "def build_wikipedia_corpus():\n",
    "    val = []\n",
    "    cc = 0\n",
    "    searching = \"\"\n",
    "    while cc <= 100000:\n",
    "        searching += random.choice(string.ascii_letters)\n",
    "        search_ = wikipedia.search(searching)\n",
    "        for i in search_:\n",
    "            try:\n",
    "                cur = wikipedia.page(i, auto_suggest=False).content\n",
    "                val.append(cur)\n",
    "                cc += len(cur)\n",
    "            except wikipedia.exceptions.DisambiguationError as e:\n",
    "                searching = random.choice(string.ascii_letters)\n",
    "    return val"
   ]
  },
  {
   "cell_type": "code",
   "execution_count": 17,
   "metadata": {
    "deletable": false,
    "editable": false,
    "nbgrader": {
     "cell_type": "code",
     "checksum": "735a8d5d5b34d9882142362f49a58b48",
     "grade": true,
     "grade_id": "cell-f26aa917928c62c8",
     "locked": true,
     "points": 5,
     "schema_version": 3,
     "solution": false,
     "task": false
    }
   },
   "outputs": [
    {
     "name": "stderr",
     "output_type": "stream",
     "text": [
      "C:\\Users\\maxig\\AppData\\Local\\Programs\\Python\\Python39\\lib\\site-packages\\wikipedia\\wikipedia.py:389: GuessedAtParserWarning: No parser was explicitly specified, so I'm using the best available HTML parser for this system (\"lxml\"). This usually isn't a problem, but if you run this code on another system, or in a different virtual environment, it may use a different parser and behave differently.\n",
      "\n",
      "The code that caused this warning is on line 389 of the file C:\\Users\\maxig\\AppData\\Local\\Programs\\Python\\Python39\\lib\\site-packages\\wikipedia\\wikipedia.py. To get rid of this warning, pass the additional argument 'features=\"lxml\"' to the BeautifulSoup constructor.\n",
      "\n",
      "  lis = BeautifulSoup(html).find_all('li')\n"
     ]
    }
   ],
   "source": [
    "corpus = build_wikipedia_corpus()\n",
    "# check types\n",
    "assert isinstance(corpus, list)\n",
    "assert isinstance(corpus[0], str)\n",
    "\n",
    "# check character count\n",
    "sum_length = 0\n",
    "for document in corpus:\n",
    "    sum_length += len(document)\n",
    "assert sum_length >= 100000\n",
    "\n",
    "# no duplicate pages\n",
    "assert len(set(corpus)) == len(corpus)"
   ]
  },
  {
   "cell_type": "markdown",
   "metadata": {
    "deletable": false,
    "editable": false,
    "nbgrader": {
     "cell_type": "markdown",
     "checksum": "1dbe701f50c44dbb49e4f54848b15c39",
     "grade": false,
     "grade_id": "cell-c560b4af51f932f1",
     "locked": true,
     "schema_version": 3,
     "solution": false,
     "task": false
    }
   },
   "source": [
    "## 3.2 (2p) Add a `min_char` parameter to `build_wikipedia_corpus` that defaults to 10000. You should stop building the corpus when this number is reached."
   ]
  },
  {
   "cell_type": "code",
   "execution_count": 18,
   "metadata": {
    "deletable": false,
    "nbgrader": {
     "cell_type": "code",
     "checksum": "84ae0263b8784b0d38ac61698af0f108",
     "grade": false,
     "grade_id": "cell-bf7ffeba0644e753",
     "locked": false,
     "schema_version": 3,
     "solution": true,
     "task": false
    }
   },
   "outputs": [],
   "source": [
    "# YOUR CODE HERE\n",
    "def build_wikipedia_corpus(min_char=10000):\n",
    "    val = []\n",
    "    cc = 0\n",
    "    searching = \"\"\n",
    "    while cc < min_char:\n",
    "        searching += random.choice(string.ascii_letters)\n",
    "        search_ = wikipedia.search(searching)\n",
    "        for i in search_:\n",
    "            try:\n",
    "                cur = wikipedia.page(i, auto_suggest=False).content\n",
    "                if cc + len(cur) < min_char:\n",
    "                    val.append(cur)\n",
    "                    cc += len(cur)\n",
    "                else:\n",
    "                    val.append(cur[:min_char - cc])\n",
    "                    cc = min_char\n",
    "                    break\n",
    "            except wikipedia.exceptions.DisambiguationError as e:\n",
    "                searching = random.choice(string.ascii_letters)\n",
    "    return val"
   ]
  },
  {
   "cell_type": "code",
   "execution_count": 19,
   "metadata": {
    "deletable": false,
    "editable": false,
    "nbgrader": {
     "cell_type": "code",
     "checksum": "319fc9a7638a850cbbb721ce34b3f613",
     "grade": true,
     "grade_id": "cell-68c3de00731699f8",
     "locked": true,
     "points": 2,
     "schema_version": 3,
     "solution": false,
     "task": false
    }
   },
   "outputs": [],
   "source": [
    "corpus = build_wikipedia_corpus(1000)\n",
    "# check types\n",
    "assert isinstance(corpus, list)\n",
    "assert isinstance(corpus[0], str)\n",
    "\n",
    "# check character count\n",
    "sum_length = 0\n",
    "for document in corpus:\n",
    "    sum_length += len(document)\n",
    "assert sum_length >= 1000\n",
    "# shouldn't be too long\n",
    "assert sum_length < 100000"
   ]
  },
  {
   "cell_type": "markdown",
   "metadata": {
    "deletable": false,
    "editable": false,
    "nbgrader": {
     "cell_type": "markdown",
     "checksum": "590518197131ed37b21e61b40309fd6a",
     "grade": false,
     "grade_id": "cell-a132e8fee5967805",
     "locked": true,
     "schema_version": 3,
     "solution": false,
     "task": false
    }
   },
   "source": [
    "## 3.3 (3p) Compute the word frequencies of your Wikipedia corpus. Return the $k$ most frequent words with their frequencies as a list of tuples. $k$ should default to 10. The list should be ordered by frequency starting from the most frequent.\n",
    "\n",
    "You can use str.split() for word tokenization."
   ]
  },
  {
   "cell_type": "code",
   "execution_count": 51,
   "metadata": {
    "deletable": false,
    "nbgrader": {
     "cell_type": "code",
     "checksum": "54fdc3c7b8b56fc1f4878e468ed37050",
     "grade": false,
     "grade_id": "cell-8c167ceb2a4c65f1",
     "locked": false,
     "schema_version": 3,
     "solution": true,
     "task": false
    }
   },
   "outputs": [],
   "source": [
    "# YOUR CODE HERE\n",
    "def get_corpus_word_frequencies(corpus, k =10):\n",
    "    d = {}\n",
    "    for i in corpus:\n",
    "        d = d | word_freq(i)\n",
    "    return sorted(d.items(), key=lambda x: x[1], reverse=True)[:k]"
   ]
  },
  {
   "cell_type": "code",
   "execution_count": 52,
   "metadata": {
    "deletable": false,
    "editable": false,
    "nbgrader": {
     "cell_type": "code",
     "checksum": "2428800ef5d9c86e3508622b3e067c00",
     "grade": true,
     "grade_id": "cell-d17a9e499c13bd35",
     "locked": true,
     "points": 3,
     "schema_version": 3,
     "solution": false,
     "task": false
    }
   },
   "outputs": [],
   "source": [
    "top_words_and_freqs = get_corpus_word_frequencies(corpus)\n",
    "assert isinstance(top_words_and_freqs, list)\n",
    "assert len(top_words_and_freqs) == 10\n",
    "assert isinstance(top_words_and_freqs[0], tuple)\n",
    "\n",
    "# Frequency of the most frequent word\n",
    "fr = top_words_and_freqs[0][1]\n",
    "\n",
    "for word, freq in top_words_and_freqs:\n",
    "    assert isinstance(word, str)\n",
    "    assert isinstance(freq, int)\n",
    "    # Check decreasing order\n",
    "    assert freq <= fr\n",
    "    fr = freq\n",
    "\n",
    "top_words_and_freqs5 = get_corpus_word_frequencies(corpus, k=5)\n",
    "assert len(top_words_and_freqs5) == 5"
   ]
  },
  {
   "cell_type": "markdown",
   "metadata": {
    "deletable": false,
    "editable": false,
    "nbgrader": {
     "cell_type": "markdown",
     "checksum": "5ce6aaedaa2eacbc1d78a1f49e303b12",
     "grade": false,
     "grade_id": "cell-2734f82ba43bf34d",
     "locked": true,
     "schema_version": 3,
     "solution": false,
     "task": false
    }
   },
   "source": [
    "## 3.4.2 Print the ten most frequent words and their frequency in the following format:\n",
    "\n",
    "```\n",
    "a<TAB>12\n",
    "an<TAB>11\n",
    "```"
   ]
  },
  {
   "cell_type": "code",
   "execution_count": 128,
   "metadata": {
    "deletable": false,
    "nbgrader": {
     "cell_type": "code",
     "checksum": "3a514dbba3ed6e12a39fcfcbe51f0c7a",
     "grade": false,
     "grade_id": "cell-bc2d984be320ff7c",
     "locked": false,
     "schema_version": 3,
     "solution": true,
     "task": false
    }
   },
   "outputs": [
    {
     "ename": "NotImplementedError",
     "evalue": "",
     "output_type": "error",
     "traceback": [
      "\u001B[1;31m---------------------------------------------------------------------------\u001B[0m",
      "\u001B[1;31mNotImplementedError\u001B[0m                       Traceback (most recent call last)",
      "Cell \u001B[1;32mIn [128], line 2\u001B[0m\n\u001B[0;32m      1\u001B[0m \u001B[38;5;66;03m# YOUR CODE HERE\u001B[39;00m\n\u001B[1;32m----> 2\u001B[0m \u001B[38;5;28;01mraise\u001B[39;00m \u001B[38;5;167;01mNotImplementedError\u001B[39;00m()\n",
      "\u001B[1;31mNotImplementedError\u001B[0m: "
     ]
    }
   ],
   "source": [
    "# YOUR CODE HERE\n",
    "raise NotImplementedError()"
   ]
  },
  {
   "cell_type": "markdown",
   "metadata": {},
   "source": [
    "# Linear algebra"
   ]
  },
  {
   "cell_type": "markdown",
   "metadata": {
    "deletable": false,
    "editable": false,
    "nbgrader": {
     "cell_type": "markdown",
     "checksum": "8ecd0d97c2fae3693da35696561b2da4",
     "grade": false,
     "grade_id": "cell-3ff21ab0f0a271e3",
     "locked": true,
     "schema_version": 3,
     "solution": false,
     "task": false
    }
   },
   "source": [
    "## 4.1 (2p) Define a function that takes a list of lists and decided if it is a matrix. A list of lists is a matrix if each nested list is the same length."
   ]
  },
  {
   "cell_type": "code",
   "execution_count": 135,
   "metadata": {
    "deletable": false,
    "nbgrader": {
     "cell_type": "code",
     "checksum": "1e8206f402442b88e543379b500409d5",
     "grade": false,
     "grade_id": "cell-90b341f4b426d33d",
     "locked": false,
     "schema_version": 3,
     "solution": true,
     "task": false
    }
   },
   "outputs": [],
   "source": [
    "# YOUR CODE HERE\n",
    "def is_matrix(list):\n",
    "    if len(list) > 1:\n",
    "        length = len(list[0])\n",
    "        for i in list[1:]:\n",
    "            if length != len(i):\n",
    "                return False\n",
    "    return True"
   ]
  },
  {
   "cell_type": "code",
   "execution_count": 136,
   "metadata": {
    "deletable": false,
    "editable": false,
    "nbgrader": {
     "cell_type": "code",
     "checksum": "a9b81810999e0b3b9b703bfe5beb90db",
     "grade": true,
     "grade_id": "cell-218d090c410748b5",
     "locked": true,
     "points": 2,
     "schema_version": 3,
     "solution": false,
     "task": false
    }
   },
   "outputs": [],
   "source": [
    "assert is_matrix([]) is True\n",
    "assert is_matrix([[], []]) is True\n",
    "assert is_matrix([[1, 2], [2, 1]]) is True\n",
    "assert is_matrix([[1], [2, 1]]) is False\n",
    "assert is_matrix([[1, 2], [2, 1], [3, 4]]) is True\n",
    "assert is_matrix([[1, 2], [2, 1], [3, 4, 5]]) is False"
   ]
  },
  {
   "cell_type": "markdown",
   "metadata": {
    "deletable": false,
    "editable": false,
    "nbgrader": {
     "cell_type": "markdown",
     "checksum": "b1208c1a5d0055907cfa32d02091d101",
     "grade": false,
     "grade_id": "cell-2ff6396d150fb578",
     "locked": true,
     "schema_version": 3,
     "solution": false,
     "task": false
    }
   },
   "source": [
    "## 4.2 (2p) Define a function that takes a matrix as an input represented as a list of lists. Return its transpose without changing the original matrix.\n",
    "\n",
    "Raise a `ValueError` if the input is not a valid matrix. Don't forget to reuse your code."
   ]
  },
  {
   "cell_type": "code",
   "execution_count": 133,
   "metadata": {
    "deletable": false,
    "nbgrader": {
     "cell_type": "code",
     "checksum": "6d72fe6b282df6792f21ba7bb1609def",
     "grade": false,
     "grade_id": "cell-adee24575dcbac8e",
     "locked": false,
     "schema_version": 3,
     "solution": true,
     "task": false
    }
   },
   "outputs": [],
   "source": [
    "# YOUR CODE HERE\n",
    "import numpy as np\n",
    "\n",
    "\n",
    "def transpose(matrix):\n",
    "    if is_matrix(matrix):\n",
    "        return np.transpose(matrix).tolist()\n",
    "    else:\n",
    "        raise ValueError"
   ]
  },
  {
   "cell_type": "code",
   "execution_count": 134,
   "metadata": {
    "deletable": false,
    "editable": false,
    "nbgrader": {
     "cell_type": "code",
     "checksum": "d981175f24d7b7a291441a7845795dc8",
     "grade": true,
     "grade_id": "cell-9b412cb3d0c0506a",
     "locked": true,
     "points": 2,
     "schema_version": 3,
     "solution": false,
     "task": false
    }
   },
   "outputs": [],
   "source": [
    "m1 = [[1, 2, 3], [4, 5, 6]]\n",
    "m2 = [[1, 4], [2, 5], [3, 6]]\n",
    "\n",
    "assert transpose([[1]]) == [[1]]\n",
    "assert transpose(m1) == m2\n",
    "# m1 is unchanged\n",
    "assert m1 == [[1, 2, 3], [4, 5, 6]]\n",
    "\n",
    "# transpose is an involution (self-inverse)\n",
    "assert transpose(transpose(m1)) == m1"
   ]
  },
  {
   "cell_type": "markdown",
   "metadata": {
    "deletable": false,
    "editable": false,
    "nbgrader": {
     "cell_type": "markdown",
     "checksum": "109bce0837c5a6da2a1c2f2fdc51540f",
     "grade": false,
     "grade_id": "cell-6447dbadcb503d60",
     "locked": true,
     "schema_version": 3,
     "solution": false,
     "task": false
    }
   },
   "source": [
    "## 4.3 (1p) Define a function that takes a matrix as its input and returns the row-wise maximum elements as a list.\n",
    "\n",
    "Raise a `ValueError` if the input is not a valid matrix. Don't forget to reuse your code."
   ]
  },
  {
   "cell_type": "code",
   "execution_count": 139,
   "metadata": {
    "deletable": false,
    "nbgrader": {
     "cell_type": "code",
     "checksum": "2652c8da70bda918810c923555ce3aab",
     "grade": false,
     "grade_id": "cell-21f91aada57c0332",
     "locked": false,
     "schema_version": 3,
     "solution": true,
     "task": false
    }
   },
   "outputs": [],
   "source": [
    "# YOUR CODE HERE\n",
    "def rowwise_max(matrix):\n",
    "    if is_matrix(matrix):\n",
    "        return np.amax(matrix, axis=1).tolist()\n",
    "    else:\n",
    "        raise ValueError"
   ]
  },
  {
   "cell_type": "code",
   "execution_count": 140,
   "metadata": {
    "deletable": false,
    "editable": false,
    "nbgrader": {
     "cell_type": "code",
     "checksum": "493a7791aec07cff034cc3031467f10e",
     "grade": true,
     "grade_id": "cell-eb440f91ea977032",
     "locked": true,
     "points": 1,
     "schema_version": 3,
     "solution": false,
     "task": false
    }
   },
   "outputs": [],
   "source": [
    "assert rowwise_max(\n",
    "    [\n",
    "        [1, 2, 3],\n",
    "        [1, 4, 3],\n",
    "        [1, 5, 3],\n",
    "    ]\n",
    ") == [3, 4, 5]\n",
    "\n",
    "assert rowwise_max([list(range(1000))]) == [999]\n",
    "assert rowwise_max(transpose([list(range(1000))])) == list(range(1000))"
   ]
  },
  {
   "cell_type": "markdown",
   "metadata": {
    "deletable": false,
    "editable": false,
    "nbgrader": {
     "cell_type": "markdown",
     "checksum": "2f4ee5b9e67cc2fe625efe25d640a7d9",
     "grade": false,
     "grade_id": "cell-d497ed3bf67b2435",
     "locked": true,
     "schema_version": 3,
     "solution": false,
     "task": false
    }
   },
   "source": [
    "## 4.4 (2p) Define a function that takes a matrix as its input and returns the column-wise maximum elements as a list.\n",
    "\n",
    "Try to reuse your previous functions."
   ]
  },
  {
   "cell_type": "code",
   "execution_count": 141,
   "metadata": {
    "deletable": false,
    "nbgrader": {
     "cell_type": "code",
     "checksum": "b9ea1d5db6192330853b033b5b00ab43",
     "grade": false,
     "grade_id": "cell-bde0cb9cf8d75c89",
     "locked": false,
     "schema_version": 3,
     "solution": true,
     "task": false
    }
   },
   "outputs": [],
   "source": [
    "# YOUR CODE HERE\n",
    "def columnwise_max(matrix):\n",
    "    return np.amax(matrix, axis=0).tolist()"
   ]
  },
  {
   "cell_type": "code",
   "execution_count": 142,
   "metadata": {
    "deletable": false,
    "editable": false,
    "nbgrader": {
     "cell_type": "code",
     "checksum": "91e72b16b0232ce1ff967c81f7bbd86a",
     "grade": true,
     "grade_id": "cell-142e6034ed15005b",
     "locked": true,
     "points": 2,
     "schema_version": 3,
     "solution": false,
     "task": false
    }
   },
   "outputs": [],
   "source": [
    "assert columnwise_max(\n",
    "    [\n",
    "        [1, 2, 3],\n",
    "        [1, 4, 3],\n",
    "        [1, 5, 3],\n",
    "    ]\n",
    ") == [1, 5, 3]\n",
    "\n",
    "assert columnwise_max([list(range(1000))]) == list(range(1000))\n",
    "assert columnwise_max(transpose([list(range(1000))])) == [999]"
   ]
  },
  {
   "cell_type": "markdown",
   "metadata": {
    "deletable": false,
    "editable": false,
    "nbgrader": {
     "cell_type": "markdown",
     "checksum": "745bf8c744aea75ba83a4b61e83d9042",
     "grade": false,
     "grade_id": "cell-6121a01202b8b3f4",
     "locked": true,
     "schema_version": 3,
     "solution": false,
     "task": false
    }
   },
   "source": [
    "## 4.5 (3p) Define a function that takes two vectors represented as lists and returns their L2 distance.\n",
    "\n",
    "Also called Euclidean distance."
   ]
  },
  {
   "cell_type": "code",
   "execution_count": 145,
   "metadata": {
    "deletable": false,
    "nbgrader": {
     "cell_type": "code",
     "checksum": "7c89e75bbe528f9924c297e03cb3d898",
     "grade": false,
     "grade_id": "cell-849b6ea4c65f058e",
     "locked": false,
     "schema_version": 3,
     "solution": true,
     "task": false
    }
   },
   "outputs": [],
   "source": [
    "# YOUR CODE HERE\n",
    "def l2_distance(m1, m2):\n",
    "    return np.linalg.norm(np.array(m1) - np.array(m2))"
   ]
  },
  {
   "cell_type": "code",
   "execution_count": 146,
   "metadata": {
    "deletable": false,
    "editable": false,
    "nbgrader": {
     "cell_type": "code",
     "checksum": "2da045094b58ca5420f36e4de76a042c",
     "grade": true,
     "grade_id": "cell-4c9f06a8534cbefc",
     "locked": true,
     "points": 3,
     "schema_version": 3,
     "solution": false,
     "task": false
    }
   },
   "outputs": [],
   "source": [
    "assert abs(l2_distance([1, 0], [1, 0]) - 0) < 1e-5\n",
    "assert abs(l2_distance([1, 0], [0, 1]) - 2 ** 0.5) < 1e-5"
   ]
  },
  {
   "cell_type": "markdown",
   "metadata": {
    "deletable": false,
    "editable": false,
    "nbgrader": {
     "cell_type": "markdown",
     "checksum": "4f3d2fa22bf571d8c99b44d27de9730c",
     "grade": false,
     "grade_id": "cell-8d38b914ec98f2be",
     "locked": true,
     "schema_version": 3,
     "solution": false,
     "task": false
    }
   },
   "source": [
    "## 4.6 Create a function that takes a matrix of size NxM and returns the pairwise L2 distance of each row pair.\n",
    "\n",
    "For input $A^{N \\times M}$, the output should be $D^{N \\times N}$ where: $D_{i,j} = L_2 (A_i, A_j)$"
   ]
  },
  {
   "cell_type": "code",
   "execution_count": 149,
   "metadata": {
    "deletable": false,
    "nbgrader": {
     "cell_type": "code",
     "checksum": "80bcb4c2f3f8cead8816494483b6ec74",
     "grade": false,
     "grade_id": "cell-644d3391fc995ee9",
     "locked": false,
     "schema_version": 3,
     "solution": true,
     "task": false
    }
   },
   "outputs": [],
   "source": [
    "# YOUR CODE HERE\n",
    "def pairwise_row_distance(matrix):\n",
    "    d = []\n",
    "    for idx,row in enumerate(matrix):\n",
    "        d.append([])\n",
    "        for col in matrix:\n",
    "            d[idx].append(l2_distance(row,col))\n",
    "    return d"
   ]
  },
  {
   "cell_type": "code",
   "execution_count": 150,
   "metadata": {
    "deletable": false,
    "editable": false,
    "nbgrader": {
     "cell_type": "code",
     "checksum": "b1ad00fa9849166dcb1604d4fa161036",
     "grade": true,
     "grade_id": "cell-8bc3cf03b303c7c3",
     "locked": true,
     "points": 0,
     "schema_version": 3,
     "solution": false,
     "task": false
    }
   },
   "outputs": [],
   "source": [
    "D = pairwise_row_distance([[1, 0, 2], [0, 2, 1]])\n",
    "# should be a matrix\n",
    "assert is_matrix(D) is True\n",
    "assert len(D) == 2\n",
    "assert len(D[0]) == 2\n",
    "assert D[0][0] == 0\n",
    "assert abs(D[0][1] - 2.449489742783178) < 1e-3\n",
    "assert abs(D[1][0] - 2.449489742783178) < 1e-3\n",
    "assert D[1][1] == 0\n",
    "\n",
    "# should be symmetric\n",
    "assert transpose(D) == D"
   ]
  }
 ],
 "metadata": {
  "kernelspec": {
   "display_name": "Python 3 (ipykernel)",
   "language": "python",
   "name": "python3"
  },
  "language_info": {
   "codemirror_mode": {
    "name": "ipython",
    "version": 3
   },
   "file_extension": ".py",
   "mimetype": "text/x-python",
   "name": "python",
   "nbconvert_exporter": "python",
   "pygments_lexer": "ipython3",
   "version": "3.8.5"
  },
  "toc": {
   "base_numbering": 1,
   "nav_menu": {},
   "number_sections": false,
   "sideBar": true,
   "skip_h1_title": false,
   "title_cell": "Table of Contents",
   "title_sidebar": "Contents",
   "toc_cell": false,
   "toc_position": {
    "height": "calc(100% - 180px)",
    "left": "10px",
    "top": "150px",
    "width": "662px"
   },
   "toc_section_display": true,
   "toc_window_display": true
  }
 },
 "nbformat": 4,
 "nbformat_minor": 2
}
