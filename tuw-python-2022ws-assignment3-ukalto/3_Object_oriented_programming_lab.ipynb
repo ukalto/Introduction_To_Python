{
 "cells": [
  {
   "cell_type": "markdown",
   "metadata": {},
   "source": [
    "Before you turn this problem in, make sure everything runs as expected. First, **restart the kernel** (in the menubar, select Kernel$\\rightarrow$Restart) and then **run all cells** (in the menubar, select Cell$\\rightarrow$Run All).\n",
    "\n",
    "Make sure you fill in any place that says `YOUR CODE HERE` or \"YOUR ANSWER HERE\", as well as your name and collaborators below:"
   ]
  },
  {
   "cell_type": "code",
   "execution_count": 1,
   "metadata": {},
   "outputs": [],
   "source": [
    "NAME = \"Max\"\n",
    "COLLABORATORS = \"/\""
   ]
  },
  {
   "cell_type": "markdown",
   "metadata": {},
   "source": [
    "---"
   ]
  },
  {
   "cell_type": "markdown",
   "metadata": {
    "deletable": false,
    "editable": false,
    "nbgrader": {
     "cell_type": "markdown",
     "checksum": "b5eeeae7b733b3c7620087ebe9e60fe6",
     "grade": false,
     "grade_id": "cell-ff8429d25fbc1051",
     "locked": true,
     "schema_version": 3,
     "solution": false,
     "task": false
    }
   },
   "source": [
    "# __Assignment 3: Object oriented programming__"
   ]
  },
  {
   "cell_type": "markdown",
   "metadata": {},
   "source": [
    "Imports"
   ]
  },
  {
   "cell_type": "code",
   "execution_count": 2,
   "metadata": {},
   "outputs": [],
   "source": [
    "from typing import Any, Dict, List"
   ]
  },
  {
   "cell_type": "markdown",
   "metadata": {},
   "source": [
    "## 1. Basic class definition"
   ]
  },
  {
   "cell_type": "markdown",
   "metadata": {
    "deletable": false,
    "editable": false,
    "nbgrader": {
     "cell_type": "markdown",
     "checksum": "1cd6e12a6c722606fc64dec22c013a02",
     "grade": false,
     "grade_id": "cell-63fe714ed0f893bc",
     "locked": true,
     "schema_version": 3,
     "solution": false,
     "task": false
    }
   },
   "source": [
    "### 1.1  Define a class named `A` with an `__init__` function that takes a single parameter and stores it in an attribute named `value`. Add a `print_value` method to the class, that prints out the value set by the `__init__` function.\n",
    "\n",
    "Instantiate the class and call the `print_value` method. Please use type hints, and the value parameter can be Any type."
   ]
  },
  {
   "cell_type": "code",
   "execution_count": 3,
   "metadata": {
    "deletable": false,
    "nbgrader": {
     "cell_type": "code",
     "checksum": "1884c0bb1ad2ddf35b244aea4610b67f",
     "grade": false,
     "grade_id": "cell-6c7ba38d59f0b533",
     "locked": false,
     "schema_version": 3,
     "solution": true,
     "task": false
    }
   },
   "outputs": [],
   "source": [
    "# YOUR CODE HERE\n",
    "class A:\n",
    "    def __init__(self, value):\n",
    "        self.value = value\n",
    "\n",
    "    def print_value(self):\n",
    "        print(self.value)"
   ]
  },
  {
   "cell_type": "code",
   "execution_count": 4,
   "metadata": {},
   "outputs": [
    {
     "name": "stdout",
     "output_type": "stream",
     "text": [
      "abc\n"
     ]
    }
   ],
   "source": [
    "a = A(\"abc\")\n",
    "a.print_value()"
   ]
  },
  {
   "cell_type": "markdown",
   "metadata": {
    "deletable": false,
    "editable": false,
    "nbgrader": {
     "cell_type": "markdown",
     "checksum": "b6d1bc549ae892236292b879b1d9aaca",
     "grade": false,
     "grade_id": "cell-455dea62bb20bf6e",
     "locked": true,
     "schema_version": 3,
     "solution": false,
     "task": false
    }
   },
   "source": [
    "### 1.2 Redefine the class's `__init__` so that it can be instantiated without a parameter. If it is called without a parameter, value should be 42."
   ]
  },
  {
   "cell_type": "code",
   "execution_count": 11,
   "metadata": {
    "deletable": false,
    "nbgrader": {
     "cell_type": "code",
     "checksum": "57b581ed21b424578424efe6eb8e99b5",
     "grade": false,
     "grade_id": "cell-1fa4f4a04cc3b613",
     "locked": false,
     "schema_version": 3,
     "solution": true,
     "task": false
    }
   },
   "outputs": [],
   "source": [
    "# YOUR CODE HERE\n",
    "class A:\n",
    "    def __init__(self, value=\"42\"):\n",
    "        self.value = value\n",
    "\n",
    "    def print_value(self):\n",
    "        print(self.value)"
   ]
  },
  {
   "cell_type": "code",
   "execution_count": 12,
   "metadata": {},
   "outputs": [
    {
     "name": "stdout",
     "output_type": "stream",
     "text": [
      "abc\n",
      "42\n"
     ]
    }
   ],
   "source": [
    "a = A(\"abc\")\n",
    "a.print_value()  # prints abc\n",
    "a = A()\n",
    "a.print_value()  # prints 42"
   ]
  },
  {
   "cell_type": "markdown",
   "metadata": {},
   "source": [
    "### 1.3 Define a class named `B`, whose `__init__` takes two parameters and stores one in a public attribute and the other in a private attribute named `this_is_public` and `__this_is_private` respectively.\n",
    "\n",
    "Check the class's __dict__ attribute and find out the mangled name of the private attribute. Don't forget the type hints!"
   ]
  },
  {
   "cell_type": "code",
   "execution_count": 22,
   "metadata": {
    "deletable": false,
    "nbgrader": {
     "cell_type": "code",
     "checksum": "a3eb8a29eecdf1d8e45e2d729e081f49",
     "grade": false,
     "grade_id": "cell-f4c8b3c52d081013",
     "locked": false,
     "schema_version": 3,
     "solution": true,
     "task": false
    }
   },
   "outputs": [],
   "source": [
    "# YOUR CODE HERE\n",
    "class B:\n",
    "    def __init__(self, public, private):\n",
    "        self.this_is_public = public\n",
    "        self.__this_is_private = private"
   ]
  },
  {
   "cell_type": "code",
   "execution_count": 23,
   "metadata": {
    "deletable": false,
    "editable": false,
    "nbgrader": {
     "cell_type": "code",
     "checksum": "b6cb190b2a85627def67c637d8f7d429",
     "grade": true,
     "grade_id": "cell-6480bb6183af4ff0",
     "locked": true,
     "points": 0,
     "schema_version": 3,
     "solution": false,
     "task": false
    }
   },
   "outputs": [
    {
     "name": "stdout",
     "output_type": "stream",
     "text": [
      "Failed to access private attribute, this is good :)\n"
     ]
    }
   ],
   "source": [
    "b = B(1, 2)\n",
    "assert b.this_is_public == 1\n",
    "try:\n",
    "    b.__this_is_private\n",
    "    print(\"This should not happen.\")\n",
    "except AttributeError:\n",
    "    print(\"Failed to access private attribute, this is good :)\")"
   ]
  },
  {
   "cell_type": "markdown",
   "metadata": {
    "deletable": false,
    "editable": false,
    "nbgrader": {
     "cell_type": "markdown",
     "checksum": "be86b5932a6b250e44bdebf483714951",
     "grade": false,
     "grade_id": "cell-9422317b93395ca9",
     "locked": true,
     "schema_version": 3,
     "solution": false,
     "task": false
    }
   },
   "source": [
    "## 2. Inheritance"
   ]
  },
  {
   "cell_type": "markdown",
   "metadata": {},
   "source": [
    "### 2.1 Guess the output without running the cell."
   ]
  },
  {
   "cell_type": "code",
   "execution_count": 25,
   "metadata": {},
   "outputs": [
    {
     "name": "stdout",
     "output_type": "stream",
     "text": [
      "True\n",
      "True\n",
      "False\n",
      "True\n",
      "True\n"
     ]
    }
   ],
   "source": [
    "class A(object): pass\n",
    "\n",
    "\n",
    "class B(A): pass\n",
    "\n",
    "\n",
    "class C(A): pass\n",
    "\n",
    "\n",
    "class D(B): pass\n",
    "\n",
    "\n",
    "a = A()\n",
    "b = B()\n",
    "c = C()\n",
    "d = D()\n",
    "\n",
    "print(isinstance(a, object))  # True\n",
    "print(isinstance(b, object))  # True\n",
    "print(isinstance(a, B))  # False\n",
    "print(isinstance(b, A))  # True\n",
    "print(isinstance(d, A))  # True"
   ]
  },
  {
   "cell_type": "code",
   "execution_count": 26,
   "metadata": {},
   "outputs": [
    {
     "name": "stdout",
     "output_type": "stream",
     "text": [
      "True\n",
      "True\n",
      "False\n",
      "True\n"
     ]
    }
   ],
   "source": [
    "print(issubclass(C, object))  # True\n",
    "print(issubclass(D, B))  # True\n",
    "print(issubclass(B, D))  # False\n",
    "print(issubclass(B, B))  # True"
   ]
  },
  {
   "cell_type": "markdown",
   "metadata": {
    "deletable": false,
    "editable": false,
    "nbgrader": {
     "cell_type": "markdown",
     "checksum": "25897ef1b34e09ec7ace0fbd10cd6376",
     "grade": false,
     "grade_id": "cell-19b4c9b97bf2c344",
     "locked": true,
     "schema_version": 3,
     "solution": false,
     "task": false
    }
   },
   "source": [
    "### 2.2 Create a Cat, a Dog, a Fish and a Eagle class.\n",
    "\n",
    "The animals have the following attributes:\n",
    "\n",
    "1. cats, dogs and eagles can make a sound (this should be a make_sound function that prints the animals sound),\n",
    "2. all animals have an age and a number_of_legs attribute,\n",
    "3. cats and dogs have a fur_color attribute. They can be instantiated with a single color or a list or tuple of colors.\n",
    "\n",
    "Use inheritance and avoid repeating code. Use default values in the constructors."
   ]
  },
  {
   "cell_type": "code",
   "execution_count": 38,
   "metadata": {
    "deletable": false,
    "nbgrader": {
     "cell_type": "code",
     "checksum": "ba492ad176d178ebcd77f30de3505ef7",
     "grade": false,
     "grade_id": "cell-45b3470b12151035",
     "locked": false,
     "schema_version": 3,
     "solution": true,
     "task": false
    }
   },
   "outputs": [],
   "source": [
    "# YOUR CODE HERE\n",
    "class Animal:\n",
    "    def __init__(self, name, age=None):\n",
    "        self.name = name\n",
    "        self.age = age\n",
    "\n",
    "\n",
    "class Cat(Animal):\n",
    "    def __init__(self, name, age, fur):\n",
    "        super().__init__(name, age)\n",
    "        self.fur = fur\n",
    "\n",
    "    @staticmethod\n",
    "    def make_sound():\n",
    "        print(\"Miau\")\n",
    "\n",
    "\n",
    "class Dog(Cat):\n",
    "    def __init__(self, name, age, fur):\n",
    "        super().__init__(name, age, fur)\n",
    "        self.sound = \"Wuff\"\n",
    "\n",
    "    @staticmethod\n",
    "    def make_sound():\n",
    "        print(\"Wuff\")\n",
    "\n",
    "\n",
    "class Fish(Animal):\n",
    "    @staticmethod\n",
    "    def make_sound():\n",
    "        pass\n",
    "\n",
    "\n",
    "class Eagle(Animal):\n",
    "    def __init__(self, name, age):\n",
    "        super().__init__(name, age)\n",
    "\n",
    "    @staticmethod\n",
    "    def make_sound():\n",
    "        print(\"Qia\")\n"
   ]
  },
  {
   "cell_type": "code",
   "execution_count": 39,
   "metadata": {
    "deletable": false,
    "editable": false,
    "nbgrader": {
     "cell_type": "code",
     "checksum": "9b91e9e029b5c9f792119c07e18b3ab6",
     "grade": true,
     "grade_id": "cell-b584e9c19590038b",
     "locked": true,
     "points": 0,
     "schema_version": 3,
     "solution": false,
     "task": false
    }
   },
   "outputs": [],
   "source": [
    "try:\n",
    "    cat = Cat(\"Fluffy\", age=3, fur=\"white\")\n",
    "    dog = Dog(\"Cherry\", age=1, fur=(\"white\", \"brown\", \"black\"))\n",
    "    fish = Fish(\"King\")\n",
    "    eagle = Eagle(\"Bruce\", age=2)\n",
    "    animals = [cat, dog, fish, eagle]\n",
    "except Exception as e:\n",
    "    print(f'Could not initialize an animal: {e}')"
   ]
  },
  {
   "cell_type": "markdown",
   "metadata": {},
   "source": [
    "Iterate over the list animals and call `make_sound` for each animal. Print either the sound the animal makes or \"XY does not make a sound\" if the animal does not make a sound (fish). This is an example of duck typing."
   ]
  },
  {
   "cell_type": "code",
   "execution_count": 40,
   "metadata": {},
   "outputs": [
    {
     "name": "stdout",
     "output_type": "stream",
     "text": [
      "Miau\n",
      "Wuff\n",
      "Qia\n"
     ]
    }
   ],
   "source": [
    "for animal in animals:\n",
    "    animal.make_sound()"
   ]
  },
  {
   "cell_type": "markdown",
   "metadata": {},
   "source": [
    "## ================ GRADED PART ================"
   ]
  },
  {
   "cell_type": "markdown",
   "metadata": {},
   "source": [
    "## 3. Graded exercises"
   ]
  },
  {
   "cell_type": "markdown",
   "metadata": {},
   "source": [
    "### 3.1 Cookbook [sum 15 points]"
   ]
  },
  {
   "cell_type": "markdown",
   "metadata": {
    "deletable": false,
    "editable": false,
    "nbgrader": {
     "cell_type": "markdown",
     "checksum": "4f70fce8d9081ad51f8d7c5718a56a14",
     "grade": false,
     "grade_id": "cell-99d15f432edde7de",
     "locked": true,
     "schema_version": 3,
     "solution": false,
     "task": false
    }
   },
   "source": [
    "#### 3.1.1 Recipe class [5 points]\n",
    "Create a new class called Recipe. A recipe should have a name (string), a dictionary of ingredients (name of the ingredient and the amount of it) and a list of steps (string instructions). Define a `list_ingredients` function, that returns a string of ingredients, with one line per ingredient and the ingredient and the amount are tabulator separated format. Define a `list_steps` function that returns a string of the steps as a numbered list.\n",
    "\n",
    "Additionally make it so that the `len()` function called on a Recipe will return the number of ingredients."
   ]
  },
  {
   "cell_type": "code",
   "execution_count": 143,
   "metadata": {
    "deletable": false,
    "nbgrader": {
     "cell_type": "code",
     "checksum": "623a2f09b01c585afddca543607b36c4",
     "grade": false,
     "grade_id": "cell-f51366c897f51556",
     "locked": false,
     "schema_version": 3,
     "solution": true,
     "task": false
    }
   },
   "outputs": [],
   "source": [
    "# YOUR CODE HERE\n",
    "class Recipe:\n",
    "    def __init__(self, name, ingredients, steps):\n",
    "        self.name = name\n",
    "        self.ingredients = ingredients\n",
    "        self.steps = steps\n",
    "\n",
    "    def list_ingredients(self):\n",
    "        _str = \"\"\n",
    "        for ingredient, amount in zip(self.ingredients.keys(), self.ingredients.values()):\n",
    "            _str += (ingredient + \"\\t\" + str(amount)) + \"\\n\"\n",
    "        return _str\n",
    "\n",
    "    def list_steps(self):\n",
    "        _str = \"\"\n",
    "        for idx, task in enumerate(self.steps):\n",
    "            _str += str(idx + 1) + \". \" + task + \"\\n\"\n",
    "        return _str\n",
    "\n",
    "    def __len__(self):\n",
    "        return len(self.ingredients.keys())"
   ]
  },
  {
   "cell_type": "code",
   "execution_count": 144,
   "metadata": {
    "deletable": false,
    "editable": false,
    "nbgrader": {
     "cell_type": "code",
     "checksum": "82011b75f0f8d02ff2a39c2b66bb4f99",
     "grade": false,
     "grade_id": "cell-b88122543b789cf2",
     "locked": true,
     "schema_version": 3,
     "solution": false,
     "task": false
    }
   },
   "outputs": [],
   "source": [
    "ingredients = {\"flour\": 1, \"egg\": 2}\n",
    "steps = [\"Mix the ingredients well\", \"Roll the dough thinly\"]\n",
    "pasta = Recipe(\"pasta\", ingredients, steps)"
   ]
  },
  {
   "cell_type": "markdown",
   "metadata": {},
   "source": [
    "The output should look like this:\n",
    "\n",
    "pasta.list_ingredients()\n",
    "\n",
    "```\n",
    "flour   1\n",
    "egg 2\n",
    "```\n",
    "\n",
    "pasta.list_steps()\n",
    "\n",
    "```\n",
    "1. Mix the ingredients well\n",
    "2. Roll the dough thinly\n",
    "```"
   ]
  },
  {
   "cell_type": "code",
   "execution_count": 145,
   "metadata": {
    "deletable": false,
    "editable": false,
    "nbgrader": {
     "cell_type": "code",
     "checksum": "ae3a16eec922ee67e18978feacd6b393",
     "grade": true,
     "grade_id": "cell-607ca863bc22b530",
     "locked": true,
     "points": 5,
     "schema_version": 3,
     "solution": false,
     "task": false
    }
   },
   "outputs": [],
   "source": [
    "assert 'flour\\t1\\negg\\t2' in pasta.list_ingredients()\n",
    "assert pasta.list_steps().startswith(\"1.\")\n",
    "assert len(pasta) == 2"
   ]
  },
  {
   "cell_type": "markdown",
   "metadata": {},
   "source": [
    "#### 3.1.2 ComplexRecipe class [7 points]\n",
    "\n",
    "Define a new class based on the previous Recipe class, that can also take a list of recipes as an optional parameter (by default it should be None). If the recipes attribute is not None when the `list_ingredients` or the `list_steps` it should start the output string with the the name and ingredients/steps of the recipes in the recipe list and then after a new line, print out it's own ingredients/steps.\n",
    "\n",
    "Redifine the lenght of the object, so it includes the lengths of the included recipes as well."
   ]
  },
  {
   "cell_type": "code",
   "execution_count": 146,
   "metadata": {
    "deletable": false,
    "nbgrader": {
     "cell_type": "code",
     "checksum": "5e0cde48780d373b29585caaa8ace540",
     "grade": false,
     "grade_id": "cell-71160792c789ff85",
     "locked": false,
     "schema_version": 3,
     "solution": true,
     "task": false
    }
   },
   "outputs": [],
   "source": [
    "# YOUR CODE HERE\n",
    "class ComplexRecipe(Recipe):\n",
    "    def __init__(self, name, ingredients, steps, recipes=None):\n",
    "        super().__init__(name, ingredients, steps)\n",
    "        self.recipes = recipes\n",
    "\n",
    "    def list_ingredients(self):\n",
    "        _str = \"\"\n",
    "        if self.recipes is not None:\n",
    "            for i in self.recipes:\n",
    "                _str += i.name + \"\\n\"\n",
    "                for ingredient, amount in zip(i.ingredients.keys(), i.ingredients.values()):\n",
    "                    _str += (ingredient + \"\\t\" + str(amount)) + \"\\n\"\n",
    "            _str += \"\\n\"\n",
    "        for ingredient, amount in zip(self.ingredients.keys(), self.ingredients.values()):\n",
    "            _str += (ingredient + \"\\t\" + str(amount)) + \"\\n\"\n",
    "        return _str\n",
    "\n",
    "    def list_steps(self):\n",
    "        _str = \"\"\n",
    "        if self.recipes is not None:\n",
    "            for i in self.recipes:\n",
    "                _str += i.name + \"\\n\"\n",
    "                for idx, task in enumerate(i.steps):\n",
    "                    _str += str(idx + 1) + \". \" + task + \"\\n\"\n",
    "            _str += \"\\n\"\n",
    "        for idx, task in enumerate(self.steps):\n",
    "            _str += str(idx + 1) + \". \" + task + \"\\n\"\n",
    "        return _str\n",
    "\n",
    "    def __len__(self):\n",
    "        _steps = len(self.ingredients.keys())\n",
    "        for i in self.recipes:\n",
    "            _steps += len(i.ingredients.keys())\n",
    "        return _steps"
   ]
  },
  {
   "cell_type": "code",
   "execution_count": 147,
   "metadata": {
    "deletable": false,
    "editable": false,
    "nbgrader": {
     "cell_type": "code",
     "checksum": "191f389350c10c21f8f600b0de63e59d",
     "grade": false,
     "grade_id": "cell-9173dba4be22ef96",
     "locked": true,
     "schema_version": 3,
     "solution": false,
     "task": false
    }
   },
   "outputs": [],
   "source": [
    "ragout_ingredients = {\"meat\": 1, \"celery\": 2, \"carot\": 3, \"tomato paste\": 1, \"spices\": 2}\n",
    "ragout_steps = [\"Cook the vegetables with spices\", \"Add the meat and let it brown\", \"Add tomato paste and cook.\"]\n",
    "ragout = Recipe(\"ragout\", ragout_ingredients, ragout_steps)\n",
    "besamel_ingredients = {\"flour\": 3, \"butter\": 3, \"milk\": 5, \"nutmeg\": 1}\n",
    "besamel_steps = [\"Melt the butter\", \"Add flour and nutmeg\", \"Slowly stir in the milk until incorporated\"]\n",
    "besamel = Recipe(\"besamel\", besamel_ingredients, besamel_steps)\n",
    "\n",
    "lasagne_ingredients = {\"parmesan\": 3}\n",
    "lasagne_steps = [\"Layer ragout, besamel, and cooked pasta\", \"Top it off with parmesan\", \"Cook in the oven\"]\n",
    "lasagne = ComplexRecipe(\"lasagne\", lasagne_ingredients, lasagne_steps, recipes=[pasta, ragout, besamel])"
   ]
  },
  {
   "cell_type": "markdown",
   "metadata": {},
   "source": [
    "The output should look like this:\n",
    "\n",
    "lasagne.list_ingredients()\n",
    "\n",
    "```\n",
    "pasta\n",
    "flour\t1\n",
    "egg\t2\n",
    "ragout\n",
    "meat\t1\n",
    "celery\t2\n",
    "carot\t3\n",
    "tomato paste\t1\n",
    "spices\t2\n",
    "besamel\n",
    "flour\t3\n",
    "butter\t3\n",
    "milk\t5\n",
    "nutmeg\t1\n",
    "\n",
    "parmesan\t3\n",
    "```\n",
    "\n",
    "lasagne.list_steps()\n",
    "\n",
    "```\n",
    "pasta\n",
    "1. Mix the ingredients well\n",
    "2. Roll the dough thinly\n",
    "ragout\n",
    "1. Cook the vegetables with spices\n",
    "2. Add the meat and let it brown\n",
    "3. Add tomato paste and cook.\n",
    "besamel\n",
    "1. Melt the butter\n",
    "2. Add flour and nutmeg\n",
    "3. Slowly stir in the milk until incorporated\n",
    "\n",
    "1. Layer ragout, besamel, and cooked pasta\n",
    "2. Top it off with parmesan\n",
    "3. Cook in the oven\n",
    "```"
   ]
  },
  {
   "cell_type": "code",
   "execution_count": 148,
   "metadata": {
    "deletable": false,
    "editable": false,
    "nbgrader": {
     "cell_type": "code",
     "checksum": "d1aa43dd4849dbfa23341ee3cf90fff8",
     "grade": true,
     "grade_id": "cell-2ef9ed4bc1003b26",
     "locked": true,
     "points": 7,
     "schema_version": 3,
     "solution": false,
     "task": false
    }
   },
   "outputs": [],
   "source": [
    "assert \"pasta\" in lasagne.list_ingredients()\n",
    "assert lasagne.list_steps().count(\"1\") == 4\n",
    "assert len(lasagne) == 12"
   ]
  },
  {
   "cell_type": "markdown",
   "metadata": {},
   "source": [
    "#### 3.1.3 Cookbook class [3 points]\n",
    "\n",
    "The Cookbook class should have an author, a title and a list of recipes. Make it so that the whole book can be printed in a nice format by overriding the `__str__` function. The outpus should contain the name of the author, the title of the book, and the recipes using the previously defined functions, or adding a `__str__` to those classes as well."
   ]
  },
  {
   "cell_type": "code",
   "execution_count": 149,
   "metadata": {
    "deletable": false,
    "nbgrader": {
     "cell_type": "code",
     "checksum": "dce330dea6c9c9c6a5e5673c26daebf4",
     "grade": false,
     "grade_id": "cell-5e027ff98851d395",
     "locked": false,
     "schema_version": 3,
     "solution": true,
     "task": false
    }
   },
   "outputs": [],
   "source": [
    "# YOUR CODE HERE\n",
    "class Cookbook:\n",
    "    def __init__(self, author, title, recipes):\n",
    "        self.author = author\n",
    "        self.title = title\n",
    "        self.recipes = recipes\n",
    "\n",
    "    def __str__(self):\n",
    "        _str = self.author + \"\\n\" + self.title + \"\\n\"\n",
    "        for i in self.recipes:\n",
    "            _str += i.name + \"\\n\" + i.list_ingredients() + \"\\n\" + i.list_steps() + \"\\n\\n\"\n",
    "        return _str"
   ]
  },
  {
   "cell_type": "code",
   "execution_count": 150,
   "metadata": {
    "deletable": false,
    "editable": false,
    "nbgrader": {
     "cell_type": "code",
     "checksum": "7b0682050cd1173a4e0ebc58d605ff51",
     "grade": false,
     "grade_id": "cell-de6fc17ab0704db7",
     "locked": true,
     "schema_version": 3,
     "solution": false,
     "task": false
    }
   },
   "outputs": [],
   "source": [
    "cookbook = Cookbook(\"John Doe\", \"Big Lasagne Book\", [pasta, lasagne])"
   ]
  },
  {
   "cell_type": "markdown",
   "metadata": {},
   "source": [
    "The output can be something like this:\n",
    "```\n",
    "John Doe\n",
    "Big Lasagne Book\n",
    "pasta\n",
    "flour\t1\n",
    "egg\t2\n",
    "\n",
    "1. Mix the ingredients well\n",
    "2. Roll the dough thinly\n",
    "\n",
    "\n",
    "lasagne\n",
    "pasta\n",
    "flour\t1\n",
    "egg\t2\n",
    "ragout\n",
    "meat\t1\n",
    "celery\t2\n",
    "carot\t3\n",
    "tomato paste\t1\n",
    "spices\t2\n",
    "besamel\n",
    "flour\t3\n",
    "butter\t3\n",
    "milk\t5\n",
    "nutmeg\t1\n",
    "\n",
    "parmesan\t3\n",
    "\n",
    "pasta\n",
    "1. Mix the ingredients well\n",
    "2. Roll the dough thinly\n",
    "ragout\n",
    "1. Cook the vegetables with spices\n",
    "2. Add the meat and let it brown\n",
    "3. Add tomato paste and cook.\n",
    "besamel\n",
    "1. Melt the butter\n",
    "2. Add flour and nutmeg\n",
    "3. Slowly stir in the milk until incorporated\n",
    "\n",
    "1. Layer ragout, besamel, and cooked pasta\n",
    "2. Top it off with parmesan\n",
    "3. Cook in the oven\n",
    "```"
   ]
  },
  {
   "cell_type": "code",
   "execution_count": 151,
   "metadata": {
    "deletable": false,
    "editable": false,
    "nbgrader": {
     "cell_type": "code",
     "checksum": "576991156c728a8cf849661213e7954c",
     "grade": true,
     "grade_id": "cell-4ead2233848edb80",
     "locked": true,
     "points": 3,
     "schema_version": 3,
     "solution": false,
     "task": false
    }
   },
   "outputs": [],
   "source": [
    "assert str(cookbook).count(\"pasta\") == 4"
   ]
  },
  {
   "cell_type": "markdown",
   "metadata": {},
   "source": [
    "### 3.2 Exceptions [sum 10 points]"
   ]
  },
  {
   "cell_type": "markdown",
   "metadata": {},
   "source": [
    "#### 3.2.1 Negative Exception [3 points]\n",
    "\n",
    "Write a `NegativeException` class that is derived from the Exception! Write a `simple_function` that takes an int argument and raises a NegativeException if the argument was negative and returns the argument otherwise."
   ]
  },
  {
   "cell_type": "code",
   "execution_count": 152,
   "metadata": {
    "deletable": false,
    "nbgrader": {
     "cell_type": "code",
     "checksum": "f0ea1867c72da679e9b2c8cbf7559327",
     "grade": false,
     "grade_id": "cell-82844608c165f0ee",
     "locked": false,
     "schema_version": 3,
     "solution": true,
     "task": false
    }
   },
   "outputs": [],
   "source": [
    "# YOUR CODE HERE\n",
    "class NegativeException(Exception):\n",
    "    pass\n",
    "\n",
    "\n",
    "def simple_function(number):\n",
    "    if number < 0:\n",
    "        raise NegativeException\n",
    "    return number"
   ]
  },
  {
   "cell_type": "code",
   "execution_count": 153,
   "metadata": {
    "deletable": false,
    "editable": false,
    "nbgrader": {
     "cell_type": "code",
     "checksum": "dd77199f72297608ad97ac159a1d26c5",
     "grade": true,
     "grade_id": "cell-f1f6b331e2ebf81e",
     "locked": true,
     "points": 3,
     "schema_version": 3,
     "solution": false,
     "task": false
    }
   },
   "outputs": [],
   "source": [
    "assert simple_function(2) == 2\n",
    "\n",
    "raised = False\n",
    "try:\n",
    "    simple_function(-2)\n",
    "except NegativeException:\n",
    "    raised = True\n",
    "\n",
    "assert raised"
   ]
  },
  {
   "cell_type": "markdown",
   "metadata": {},
   "source": [
    "#### 3.2.2 Cascading exceptions [4 points]\n",
    "\n",
    "Write a `cascade_function` that takes one argument with cascading try-except block that calls the `simple_function` and raises a `ValueError` if a `NegativeException` occured."
   ]
  },
  {
   "cell_type": "code",
   "execution_count": 154,
   "metadata": {
    "deletable": false,
    "nbgrader": {
     "cell_type": "code",
     "checksum": "719b24da5e333aecb03e7856c1b29770",
     "grade": false,
     "grade_id": "cell-8a7b97c572177d2a",
     "locked": false,
     "schema_version": 3,
     "solution": true,
     "task": false
    }
   },
   "outputs": [],
   "source": [
    "# YOUR CODE HERE\n",
    "def cascade_function(number):\n",
    "    try:\n",
    "        return simple_function(number)\n",
    "    except NegativeException:\n",
    "        raise ValueError"
   ]
  },
  {
   "cell_type": "code",
   "execution_count": 155,
   "metadata": {
    "deletable": false,
    "editable": false,
    "nbgrader": {
     "cell_type": "code",
     "checksum": "641df4a2fbd46d9c39b14495771e041d",
     "grade": true,
     "grade_id": "cell-809ca2a34720dfa8",
     "locked": true,
     "points": 4,
     "schema_version": 3,
     "solution": false,
     "task": false
    }
   },
   "outputs": [],
   "source": [
    "negative_raised = False\n",
    "value_raised = False\n",
    "try:\n",
    "    cascade_function(-2)\n",
    "except NegativeException:\n",
    "    negative_raised = True\n",
    "except ValueError:\n",
    "    value_raised = True\n",
    "\n",
    "assert not negative_raised\n",
    "assert value_raised"
   ]
  },
  {
   "cell_type": "markdown",
   "metadata": {},
   "source": [
    "#### 3.2.3 Finally [3 points]\n",
    "\n",
    "Write a `finally_function` that takes an argument, calls the `cascade_function`, catches any error and as a clean-up action it returns True."
   ]
  },
  {
   "cell_type": "code",
   "execution_count": 156,
   "metadata": {
    "deletable": false,
    "nbgrader": {
     "cell_type": "code",
     "checksum": "a59404510a7a0554a18e92f74a4e6eda",
     "grade": false,
     "grade_id": "cell-fe8bae55d49a6ec0",
     "locked": false,
     "schema_version": 3,
     "solution": true,
     "task": false
    }
   },
   "outputs": [],
   "source": [
    "# YOUR CODE HERE\n",
    "def finally_function(number):\n",
    "    try:\n",
    "        cascade_function(number)\n",
    "    except Exception:\n",
    "        return True"
   ]
  },
  {
   "cell_type": "code",
   "execution_count": 157,
   "metadata": {
    "deletable": false,
    "editable": false,
    "nbgrader": {
     "cell_type": "code",
     "checksum": "dd4266ebfb6dc41d29ea43ac7dc0f0bd",
     "grade": true,
     "grade_id": "cell-bb0801a5c48f99ac",
     "locked": true,
     "points": 3,
     "schema_version": 3,
     "solution": false,
     "task": false
    }
   },
   "outputs": [],
   "source": [
    "assert finally_function(-5)"
   ]
  }
 ],
 "metadata": {
  "kernelspec": {
   "display_name": "Python 3 (ipykernel)",
   "language": "python",
   "name": "python3"
  },
  "language_info": {
   "codemirror_mode": {
    "name": "ipython",
    "version": 3
   },
   "file_extension": ".py",
   "mimetype": "text/x-python",
   "name": "python",
   "nbconvert_exporter": "python",
   "pygments_lexer": "ipython3",
   "version": "3.10.4"
  },
  "toc": {
   "base_numbering": 1,
   "nav_menu": {},
   "number_sections": true,
   "sideBar": true,
   "skip_h1_title": false,
   "title_cell": "Table of Contents",
   "title_sidebar": "Contents",
   "toc_cell": false,
   "toc_position": {},
   "toc_section_display": true,
   "toc_window_display": true
  },
  "vscode": {
   "interpreter": {
    "hash": "31f2aee4e71d21fbe5cf8b01ff0e069b9275f58929596ceb00d14d90e3e16cd6"
   }
  }
 },
 "nbformat": 4,
 "nbformat_minor": 2
}
