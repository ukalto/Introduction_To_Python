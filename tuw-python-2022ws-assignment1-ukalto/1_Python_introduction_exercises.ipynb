{
 "cells": [
  {
   "cell_type": "markdown",
   "metadata": {
    "deletable": false,
    "editable": false,
    "nbgrader": {
     "cell_type": "markdown",
     "checksum": "a4ae6c6d9dad9d64ca626c52248df874",
     "grade": false,
     "grade_id": "cell-b7412adc4e975740",
     "locked": true,
     "schema_version": 3,
     "solution": false,
     "task": false
    }
   },
   "source": [
    "# Programming in Python\n",
    "\n",
    "__Laboratory 1, Introduction__\n",
    "\n",
    "__Sept 26, 2022__\n",
    "\n",
    "__Submission deadline: Sept 29 23:59__\n",
    "\n",
    "__Submissions must be made through Github Classroom__\n",
    "\n",
    "Some exercises are graded.\n",
    "The maximum score you can get is 25 points.\n",
    "The score value of graded exercises is listed in the instructions.\n",
    "\n",
    "You are free to use any material (lecture, Stackoverflow etc.) except full solutions but you should first try to figure them out on your own.\n",
    "\n",
    "We use an [nbgrader](https://nbgrader.readthedocs.io/en/stable/index.html) for autograding the assignments. Many cells are read-only. Please **DO NOT** delete or copy cells. You can add new cells but your solutions should go into the designated cells."
   ]
  },
  {
   "cell_type": "markdown",
   "metadata": {
    "deletable": false,
    "editable": false,
    "nbgrader": {
     "cell_type": "markdown",
     "checksum": "5d72fe892091ca92e9af47e1b4041a61",
     "grade": false,
     "grade_id": "cell-c1b4e57b70e15aa8",
     "locked": true,
     "schema_version": 3,
     "solution": false,
     "task": false
    }
   },
   "source": [
    "# `range()` practice\n",
    "\n",
    "## Print the numbers between 60 and 69 inclusive."
   ]
  },
  {
   "cell_type": "code",
   "execution_count": 1,
   "metadata": {
    "deletable": false,
    "nbgrader": {
     "cell_type": "code",
     "checksum": "f8cea911828bf564dbe36285c3523029",
     "grade": false,
     "grade_id": "cell-306d37c936005bde",
     "locked": false,
     "schema_version": 3,
     "solution": true,
     "task": false
    }
   },
   "outputs": [
    {
     "name": "stdout",
     "output_type": "stream",
     "text": [
      "60\n",
      "61\n",
      "62\n",
      "63\n",
      "64\n",
      "65\n",
      "66\n",
      "67\n",
      "68\n",
      "69\n"
     ]
    }
   ],
   "source": [
    "# YOUR CODE HERE\n",
    "for i in range(60, 70):\n",
    "    print(i)"
   ]
  },
  {
   "cell_type": "markdown",
   "metadata": {
    "deletable": false,
    "editable": false,
    "nbgrader": {
     "cell_type": "markdown",
     "checksum": "56e247bad450ab7567e0d914c66fa3f7",
     "grade": false,
     "grade_id": "cell-ee6316d7719a50ca",
     "locked": true,
     "schema_version": 3,
     "solution": false,
     "task": false
    }
   },
   "source": [
    "## Print the first 10 square numbers starting from 1."
   ]
  },
  {
   "cell_type": "code",
   "execution_count": 2,
   "metadata": {
    "deletable": false,
    "nbgrader": {
     "cell_type": "code",
     "checksum": "a922095e9cb741abf5b5b872a7c516e2",
     "grade": false,
     "grade_id": "cell-b5c9f9ae3534a9b4",
     "locked": false,
     "schema_version": 3,
     "solution": true,
     "task": false
    }
   },
   "outputs": [
    {
     "name": "stdout",
     "output_type": "stream",
     "text": [
      "1\n",
      "4\n",
      "9\n",
      "16\n",
      "25\n",
      "36\n",
      "49\n",
      "64\n",
      "81\n",
      "100\n"
     ]
    }
   ],
   "source": [
    "# YOUR CODE HERE\n",
    "for i in range(1, 11):\n",
    "    print(pow(i, 2))"
   ]
  },
  {
   "cell_type": "markdown",
   "metadata": {
    "deletable": false,
    "editable": false,
    "nbgrader": {
     "cell_type": "markdown",
     "checksum": "92d07cf852dc37dee06d049cf4437d72",
     "grade": false,
     "grade_id": "cell-cb7a56c8f3dc0601",
     "locked": true,
     "schema_version": 3,
     "solution": false,
     "task": false
    }
   },
   "source": [
    "## Print the numbers from 29 to 20 (backwards)."
   ]
  },
  {
   "cell_type": "code",
   "execution_count": 3,
   "metadata": {
    "deletable": false,
    "nbgrader": {
     "cell_type": "code",
     "checksum": "17ed320fa33ace86a652f32817054587",
     "grade": false,
     "grade_id": "cell-3b0aefde40906e95",
     "locked": false,
     "schema_version": 3,
     "solution": true,
     "task": false
    }
   },
   "outputs": [
    {
     "name": "stdout",
     "output_type": "stream",
     "text": [
      "29\n",
      "28\n",
      "27\n",
      "26\n",
      "25\n",
      "24\n",
      "23\n",
      "22\n",
      "21\n",
      "20\n"
     ]
    }
   ],
   "source": [
    "# YOUR CODE HERE\n",
    "for i in range(29, 19, -1):\n",
    "    print(i)"
   ]
  },
  {
   "cell_type": "markdown",
   "metadata": {
    "deletable": false,
    "editable": false,
    "nbgrader": {
     "cell_type": "markdown",
     "checksum": "855de7bf29ea896bc920f353ed5a2c07",
     "grade": false,
     "grade_id": "cell-f36aba34c82823a0",
     "locked": true,
     "schema_version": 3,
     "solution": false,
     "task": false
    }
   },
   "source": [
    "# Reading user input\n",
    "\n",
    "User input can be read with the `input()` function. It always returns a string which can be converted to integer using the `int()` function."
   ]
  },
  {
   "cell_type": "code",
   "execution_count": null,
   "metadata": {
    "deletable": false,
    "nbgrader": {
     "cell_type": "code",
     "checksum": "9e184167fdb9bd7ce0ec9df9771e3491",
     "grade": false,
     "grade_id": "cell-3acd7027f4f934a8",
     "locked": false,
     "schema_version": 3,
     "solution": true,
     "task": false
    }
   },
   "outputs": [],
   "source": [
    "# YOUR CODE HERE\n",
    "int(input(\"Your input:\"))"
   ]
  },
  {
   "cell_type": "markdown",
   "metadata": {
    "deletable": false,
    "editable": false,
    "nbgrader": {
     "cell_type": "markdown",
     "checksum": "ad3f58d5b0fff06df46cdaaaf072431f",
     "grade": false,
     "grade_id": "cell-569e884114d1be95",
     "locked": true,
     "schema_version": 3,
     "solution": false,
     "task": false
    }
   },
   "source": [
    "## Read a number N and print the numbers from 1 to N."
   ]
  },
  {
   "cell_type": "code",
   "execution_count": 4,
   "metadata": {
    "deletable": false,
    "nbgrader": {
     "cell_type": "code",
     "checksum": "db44b0c79306f9661db321bfcd363f8a",
     "grade": false,
     "grade_id": "cell-0a36206459fb1dd0",
     "locked": false,
     "schema_version": 3,
     "solution": true,
     "task": false
    }
   },
   "outputs": [
    {
     "name": "stdout",
     "output_type": "stream",
     "text": [
      "1\n"
     ]
    }
   ],
   "source": [
    "# YOUR CODE HERE\n",
    "number = int(input(\"Your number:\"))\n",
    "for i in range(1, number):\n",
    "    print(i)"
   ]
  },
  {
   "cell_type": "markdown",
   "metadata": {
    "deletable": false,
    "editable": false,
    "nbgrader": {
     "cell_type": "markdown",
     "checksum": "95f8a49976cfc6cd5b98845e929d04d4",
     "grade": false,
     "grade_id": "cell-9c605f8b56c8be50",
     "locked": true,
     "schema_version": 3,
     "solution": false,
     "task": false
    }
   },
   "source": [
    "## Read a number N and print the first N square numbers starting from 1."
   ]
  },
  {
   "cell_type": "code",
   "execution_count": 5,
   "metadata": {
    "deletable": false,
    "nbgrader": {
     "cell_type": "code",
     "checksum": "dca979d65cb50d9ef23875d0ae812a6c",
     "grade": false,
     "grade_id": "cell-834b3f1952f3a615",
     "locked": false,
     "schema_version": 3,
     "solution": true,
     "task": false
    }
   },
   "outputs": [
    {
     "name": "stdout",
     "output_type": "stream",
     "text": [
      "1\n",
      "4\n"
     ]
    }
   ],
   "source": [
    "# YOUR CODE HERE\n",
    "number = int(input(\"Your number:\"))\n",
    "for i in range(1, number):\n",
    "    print(pow(i, 2))"
   ]
  },
  {
   "cell_type": "markdown",
   "metadata": {
    "deletable": false,
    "editable": false,
    "nbgrader": {
     "cell_type": "markdown",
     "checksum": "086cce9c80c0bb9d091da9fa4da29d35",
     "grade": false,
     "grade_id": "cell-f4dd49042e616070",
     "locked": true,
     "schema_version": 3,
     "solution": false,
     "task": false
    }
   },
   "source": [
    "## Read numbers until the input is 0 and print their sum."
   ]
  },
  {
   "cell_type": "code",
   "execution_count": null,
   "metadata": {
    "deletable": false,
    "nbgrader": {
     "cell_type": "code",
     "checksum": "2ea2b82f65277b5c893f36f521fdd8cb",
     "grade": false,
     "grade_id": "cell-445648d32d55a5e5",
     "locked": false,
     "schema_version": 3,
     "solution": true,
     "task": false
    }
   },
   "outputs": [],
   "source": [
    "# YOUR CODE HERE\n",
    "sum_ = 0\n",
    "while True:\n",
    "    number = int(input(\"Your number:\"))\n",
    "    if number != 0:\n",
    "        sum_ += number\n",
    "    else:\n",
    "        break\n",
    "print(sum_)"
   ]
  },
  {
   "cell_type": "markdown",
   "metadata": {
    "deletable": false,
    "editable": false,
    "nbgrader": {
     "cell_type": "markdown",
     "checksum": "30adc40bb88dc1b5c4e18fa512aeaef7",
     "grade": false,
     "grade_id": "cell-34aa8d0e2d9961f6",
     "locked": true,
     "schema_version": 3,
     "solution": false,
     "task": false
    }
   },
   "source": [
    "## Read numbers until 0 and print their mean without using a list.\n",
    "\n",
    "Do not include 0 in the statistics."
   ]
  },
  {
   "cell_type": "code",
   "execution_count": null,
   "metadata": {
    "deletable": false,
    "nbgrader": {
     "cell_type": "code",
     "checksum": "11c76f24cf9a2de1d2f6ba8b589a3b0f",
     "grade": false,
     "grade_id": "cell-25bc5f05e52e11c5",
     "locked": false,
     "schema_version": 3,
     "solution": true,
     "task": false
    }
   },
   "outputs": [],
   "source": [
    "# YOUR CODE HERE\n",
    "sum_ = 0\n",
    "count = 0\n",
    "while True:\n",
    "    number = int(input(\"Your number:\"))\n",
    "    count += 1\n",
    "    if number != 0:\n",
    "        sum_ += number\n",
    "    else:\n",
    "        count -= 1\n",
    "        break\n",
    "if count != 0:\n",
    "    print(sum_ / count)\n",
    "else:\n",
    "    print(0)"
   ]
  },
  {
   "cell_type": "markdown",
   "source": [
    "## Read numbers until 0 and print their standard deviation without using a list.\n",
    "\n",
    "Do not include 0 in the statistics.\n",
    "\n",
    "Standard deviation can be computed without a list. You can find the formula [here](https://en.wikipedia.org/wiki/Standard_deviation#Identities_and_mathematical_properties)."
   ],
   "metadata": {
    "collapsed": false
   }
  },
  {
   "cell_type": "code",
   "execution_count": 1,
   "metadata": {
    "deletable": false,
    "nbgrader": {
     "cell_type": "code",
     "checksum": "9c1b0181b24c0b61df39341c05d4ebec",
     "grade": false,
     "grade_id": "cell-6d3a243a6151a29d",
     "locked": false,
     "schema_version": 3,
     "solution": true,
     "task": false
    }
   },
   "outputs": [
    {
     "name": "stdout",
     "output_type": "stream",
     "text": [
      "0.4714045207910317\n"
     ]
    }
   ],
   "source": [
    "# YOUR CODE HERE\n",
    "import math\n",
    "\n",
    "sum_ = 0\n",
    "count = 0\n",
    "sd = 0\n",
    "tupel_n = ()\n",
    "while True:\n",
    "    number = int(input(\"Your number:\"))\n",
    "    count += 1\n",
    "    if number != 0:\n",
    "        sum_ += number\n",
    "        tupel_n += (number,)\n",
    "    else:\n",
    "        count -= 1\n",
    "        break\n",
    "if count >= 0:\n",
    "    if count == 0:\n",
    "        count = 1\n",
    "    mean = sum_ / count\n",
    "    for i in tupel_n:\n",
    "        sd += pow((i - mean), 2)\n",
    "    print(math.sqrt(sd / count))"
   ]
  },
  {
   "cell_type": "markdown",
   "metadata": {
    "collapsed": true,
    "deletable": false,
    "editable": false,
    "nbgrader": {
     "cell_type": "markdown",
     "checksum": "2be809f6efbee204fcd14f8aaa3f60b7",
     "grade": false,
     "grade_id": "cell-ef2652a4e08329a7",
     "locked": true,
     "schema_version": 3,
     "solution": false,
     "task": false
    }
   },
   "source": [
    "# Lists\n",
    "\n",
    "## Print the odd numbers from this list."
   ]
  },
  {
   "cell_type": "code",
   "execution_count": null,
   "metadata": {
    "deletable": false,
    "editable": false,
    "nbgrader": {
     "cell_type": "code",
     "checksum": "a0020c271939a3a963f63b5a30a3e0ed",
     "grade": false,
     "grade_id": "cell-f0e76a9ae83db0ba",
     "locked": true,
     "schema_version": 3,
     "solution": false,
     "task": false
    }
   },
   "outputs": [],
   "source": [
    "l = [2, 3, -2, -7, 0, 2, 3]"
   ]
  },
  {
   "cell_type": "code",
   "execution_count": null,
   "metadata": {
    "deletable": false,
    "nbgrader": {
     "cell_type": "code",
     "checksum": "cdc75bc62ef7025674b39f9f1fbbacbe",
     "grade": false,
     "grade_id": "cell-2d63634cd4835914",
     "locked": false,
     "schema_version": 3,
     "solution": true,
     "task": false
    }
   },
   "outputs": [],
   "source": [
    "# YOUR CODE HERE\n",
    "for i in l:\n",
    "    if i % 2 == 0:\n",
    "        print(i)"
   ]
  },
  {
   "cell_type": "markdown",
   "metadata": {
    "deletable": false,
    "editable": false,
    "nbgrader": {
     "cell_type": "markdown",
     "checksum": "09dfa125eee47fad42abdb24ca34d1b0",
     "grade": false,
     "grade_id": "cell-28a320cf91cd42bc",
     "locked": true,
     "schema_version": 3,
     "solution": false,
     "task": false
    }
   },
   "source": [
    "## Read numbers until 0 and collect them in a list. Print the elements backwards (zero not included).\n",
    "\n",
    "For example:\n",
    "\n",
    "```\n",
    "input: 3 4 2 12 3 0\n",
    "output: 3 12 3 4 3 ```"
   ]
  },
  {
   "cell_type": "code",
   "execution_count": null,
   "metadata": {
    "deletable": false,
    "nbgrader": {
     "cell_type": "code",
     "checksum": "168ffe6551253b7fc75044b6f0e55be1",
     "grade": false,
     "grade_id": "cell-89c5428a352b0b90",
     "locked": false,
     "schema_version": 3,
     "solution": true,
     "task": false
    }
   },
   "outputs": [],
   "source": [
    "# YOUR CODE HERE\n",
    "l = []\n",
    "while True:\n",
    "    number = int(input(\"Your number:\"))\n",
    "    if number != 0:\n",
    "        l.append(number)\n",
    "    else:\n",
    "        break\n",
    "print(list(reversed(l)))"
   ]
  },
  {
   "cell_type": "markdown",
   "metadata": {
    "deletable": false,
    "editable": false,
    "nbgrader": {
     "cell_type": "markdown",
     "checksum": "bd3bae45e62f2cc48333945f995dfb92",
     "grade": false,
     "grade_id": "cell-c9afafa54ed38754",
     "locked": true,
     "schema_version": 3,
     "solution": false,
     "task": false
    }
   },
   "source": [
    "## Read a number N and then read exactly N numbers. Print them backwards.\n",
    "\n",
    "For example:\n",
    "\n",
    "```\n",
    "input: 4 -1 0 2 12\n",
    "output: 12 2 0 -1\n",
    "```"
   ]
  },
  {
   "cell_type": "code",
   "execution_count": null,
   "metadata": {
    "deletable": false,
    "nbgrader": {
     "cell_type": "code",
     "checksum": "a129ec12adfb7c2c7b84d80337a20029",
     "grade": false,
     "grade_id": "cell-28fe536393b9cbff",
     "locked": false,
     "schema_version": 3,
     "solution": true,
     "task": false
    }
   },
   "outputs": [],
   "source": [
    "# YOUR CODE HERE\n",
    "length = int(input(\"How many numbers should be read in?\"))\n",
    "l = []\n",
    "for i in range(length):\n",
    "    l.append(int(input(\"Number: \")))\n",
    "print(list(reversed(l)))"
   ]
  },
  {
   "cell_type": "markdown",
   "metadata": {
    "deletable": false,
    "editable": false,
    "nbgrader": {
     "cell_type": "markdown",
     "checksum": "234b32715928aa212ebe928a7641d170",
     "grade": false,
     "grade_id": "cell-4ebe0c980a01f717",
     "locked": true,
     "schema_version": 3,
     "solution": false,
     "task": false
    }
   },
   "source": [
    "# Functions\n",
    "\n",
    "The following exercises contain function skeletons. Finish these functions.\n",
    "If you work correctly, the assert statements should not fail, however, passing all tests does not guarantee that your solution is correct.\n",
    "You are free to add more tests in a new cell. The test cell cannot be modified.\n",
    "\n",
    "## (2p) Write a function that takes an integer parameter (N) and returns a list of the first N prime numbers starting from 2."
   ]
  },
  {
   "cell_type": "code",
   "execution_count": 21,
   "metadata": {
    "deletable": false,
    "nbgrader": {
     "cell_type": "code",
     "checksum": "e8045f38a2bb15a18383e871c428fd31",
     "grade": false,
     "grade_id": "cell-32bfa66ad55808d0",
     "locked": false,
     "schema_version": 3,
     "solution": true,
     "task": false
    }
   },
   "outputs": [],
   "source": [
    "# YOUR CODE HERE\n",
    "def is_prime(n):\n",
    "    if n == 1 or n == 0:\n",
    "        return False\n",
    "    for i in range(2, (n // 2) + 1):\n",
    "        if n % i == 0:\n",
    "            return False\n",
    "    return True\n",
    "\n",
    "\n",
    "def get_n_primes(prime_n):\n",
    "    l = []\n",
    "    starting_number = 2\n",
    "    while prime_n > 0:\n",
    "        if is_prime(starting_number):\n",
    "            l.append(starting_number)\n",
    "            prime_n -= 1\n",
    "        starting_number += 1\n",
    "    return l"
   ]
  },
  {
   "cell_type": "code",
   "execution_count": 22,
   "metadata": {
    "deletable": false,
    "editable": false,
    "nbgrader": {
     "cell_type": "code",
     "checksum": "27711dbf4111121b1f3f316a4226ced1",
     "grade": true,
     "grade_id": "cell-1338b4225b785617",
     "locked": true,
     "points": 2,
     "schema_version": 3,
     "solution": false,
     "task": false
    }
   },
   "outputs": [],
   "source": [
    "assert get_n_primes(3) == [2, 3, 5]\n",
    "assert get_n_primes(0) == []"
   ]
  },
  {
   "cell_type": "markdown",
   "metadata": {
    "deletable": false,
    "editable": false,
    "nbgrader": {
     "cell_type": "markdown",
     "checksum": "a8f9d5230016803474527b9b4eda1fac",
     "grade": false,
     "grade_id": "cell-a169e0c53bfd025c",
     "locked": true,
     "schema_version": 3,
     "solution": false,
     "task": false
    }
   },
   "source": [
    "## (3p) Write a function that takes an integer parameter (N) and returns the Nth Fibonacci number.\n",
    "\n",
    "The Fibonacci series is defined as:\n",
    "\n",
    "$$\n",
    "F_n = F_{n-1} + F_{n-2} \\text{ for } n>1\\\\\n",
    "F_0 = 0\\\\\n",
    "F_1 = 1\n",
    "$$\n",
    "\n",
    "The first few elements of the Fibonacci series are 0, 1, 1, 2, 3, 5, 8, 13 etc.\n",
    "\n",
    "Raise a `ValueError` if $N<0$."
   ]
  },
  {
   "cell_type": "code",
   "execution_count": null,
   "metadata": {
    "deletable": false,
    "nbgrader": {
     "cell_type": "code",
     "checksum": "d785ca861663cfa364c0f01dd86c95aa",
     "grade": false,
     "grade_id": "cell-bed163595b1306c1",
     "locked": false,
     "schema_version": 3,
     "solution": true,
     "task": false
    }
   },
   "outputs": [],
   "source": [
    "# YOUR CODE HERE\n",
    "import math\n",
    "\n",
    "\n",
    "def get_nth_fibonacci(number):\n",
    "    if number >= 0:\n",
    "        fn = (pow(1 + math.sqrt(5), number) - pow(1 - math.sqrt(5), number)) / (pow(2, number) * math.sqrt(5))\n",
    "        return int(fn)\n",
    "    else:\n",
    "        raise ValueError"
   ]
  },
  {
   "cell_type": "code",
   "execution_count": null,
   "metadata": {
    "deletable": false,
    "editable": false,
    "nbgrader": {
     "cell_type": "code",
     "checksum": "fc25a1c72795157c51a97efb9c54f7da",
     "grade": true,
     "grade_id": "cell-c956085d6aa9b32d",
     "locked": true,
     "points": 3,
     "schema_version": 3,
     "solution": false,
     "task": false
    }
   },
   "outputs": [],
   "source": [
    "assert get_nth_fibonacci(0) == 0\n",
    "assert get_nth_fibonacci(1) == 1\n",
    "assert get_nth_fibonacci(2) == 1\n",
    "assert get_nth_fibonacci(5) == 5\n",
    "assert get_nth_fibonacci(7) == 13\n",
    "\n",
    "try:\n",
    "    get_nth_fibonacci(-2)\n",
    "except ValueError:\n",
    "    pass\n",
    "else:\n",
    "    AssertionError(\"TEST FAILS. Negative index should raise a ValueError.\")"
   ]
  },
  {
   "cell_type": "markdown",
   "metadata": {
    "deletable": false,
    "editable": false,
    "nbgrader": {
     "cell_type": "markdown",
     "checksum": "09959e5d70e80a465a539bf9f0ee8a44",
     "grade": false,
     "grade_id": "cell-9be4a9c459f36ea2",
     "locked": true,
     "schema_version": 3,
     "solution": false,
     "task": false
    }
   },
   "source": [
    "## (2p) Write a function that takes an integer parameter (N) and returns a list of the first N Fibonacci numbers starting from $F_1$ to $F_N$ inclusive.\n",
    "\n",
    "You are encouraged to reuse previous functions."
   ]
  },
  {
   "cell_type": "code",
   "execution_count": null,
   "metadata": {
    "deletable": false,
    "nbgrader": {
     "cell_type": "code",
     "checksum": "1fc8b856c3f6bce598e00e3d42a9b23f",
     "grade": false,
     "grade_id": "cell-a483efba1cf84902",
     "locked": false,
     "schema_version": 3,
     "solution": true,
     "task": false
    }
   },
   "outputs": [],
   "source": [
    "# YOUR CODE HERE\n",
    "def get_n_fibonacci(number):\n",
    "    l = []\n",
    "    for i in range(1, number + 1):\n",
    "        l.append(get_nth_fibonacci(i))\n",
    "    return l"
   ]
  },
  {
   "cell_type": "code",
   "execution_count": null,
   "metadata": {
    "deletable": false,
    "editable": false,
    "nbgrader": {
     "cell_type": "code",
     "checksum": "304da9df6aff40ea0274391b8ee6d248",
     "grade": true,
     "grade_id": "cell-70487d81d741784a",
     "locked": true,
     "points": 2,
     "schema_version": 3,
     "solution": false,
     "task": false
    }
   },
   "outputs": [],
   "source": [
    "assert get_n_fibonacci(4) == [1, 1, 2, 3]\n",
    "assert get_n_fibonacci(8) == [1, 1, 2, 3, 5, 8, 13, 21]\n",
    "assert get_n_fibonacci(0) == []"
   ]
  },
  {
   "cell_type": "markdown",
   "metadata": {
    "deletable": false,
    "editable": false,
    "nbgrader": {
     "cell_type": "markdown",
     "checksum": "0c15d448d6ed1b0d3e1a28f0f4c0a855",
     "grade": false,
     "grade_id": "cell-836bd9962fe40746",
     "locked": true,
     "schema_version": 3,
     "solution": false,
     "task": false
    }
   },
   "source": [
    "## (3p) Write a function that takes two integers, A and B and returns B-A Fibonacci numbers starting from the Ath Fibonacci number to the (B-1)th number. See the example below."
   ]
  },
  {
   "cell_type": "code",
   "execution_count": null,
   "metadata": {
    "deletable": false,
    "nbgrader": {
     "cell_type": "code",
     "checksum": "fc1a00d57c3b387f87972ad789b954b5",
     "grade": false,
     "grade_id": "cell-bdda0121e9b4384e",
     "locked": false,
     "schema_version": 3,
     "solution": true,
     "task": false
    }
   },
   "outputs": [],
   "source": [
    "# YOUR CODE HERE\n",
    "def get_range_fibonacci(a, b):\n",
    "    l = []\n",
    "    for i in range(a, b):\n",
    "        l.append(get_nth_fibonacci(i))\n",
    "    return l"
   ]
  },
  {
   "cell_type": "code",
   "execution_count": null,
   "metadata": {
    "deletable": false,
    "editable": false,
    "nbgrader": {
     "cell_type": "code",
     "checksum": "13edfe0e0829fca627bba208e864810c",
     "grade": true,
     "grade_id": "cell-009e90c9d285f80e",
     "locked": true,
     "points": 3,
     "schema_version": 3,
     "solution": false,
     "task": false
    }
   },
   "outputs": [],
   "source": [
    "assert get_range_fibonacci(2, 5) == [1, 2, 3]\n",
    "assert get_range_fibonacci(5, 5) == []\n",
    "assert get_range_fibonacci(1, 5) == [1, 1, 2, 3]"
   ]
  },
  {
   "cell_type": "markdown",
   "metadata": {
    "deletable": false,
    "editable": false,
    "nbgrader": {
     "cell_type": "markdown",
     "checksum": "f1d63d5cf475fd3ef41614886d969250",
     "grade": false,
     "grade_id": "cell-1bc996027017d3cc",
     "locked": true,
     "schema_version": 3,
     "solution": false,
     "task": false
    }
   },
   "source": [
    "# Default and keyword arguments\n",
    "\n",
    "## (2p) Write a function that computes the sum of a list with an optional starting value. If no starting value is provided, it should sum from 0."
   ]
  },
  {
   "cell_type": "code",
   "execution_count": 1,
   "metadata": {
    "deletable": false,
    "nbgrader": {
     "cell_type": "code",
     "checksum": "af738ac40c5b84ef59b73671690c02d8",
     "grade": false,
     "grade_id": "cell-33aba3b44cbe7d79",
     "locked": false,
     "schema_version": 3,
     "solution": true,
     "task": false
    }
   },
   "outputs": [],
   "source": [
    "# YOUR CODE HERE\n",
    "import decimal\n",
    "\n",
    "\n",
    "def sum_list(li_, n=0):\n",
    "    return sum(li_, n)"
   ]
  },
  {
   "cell_type": "code",
   "execution_count": 2,
   "metadata": {
    "deletable": false,
    "editable": false,
    "nbgrader": {
     "cell_type": "code",
     "checksum": "45974c56060cd4551e71b5fd54327f49",
     "grade": true,
     "grade_id": "cell-11357ac08ed33343",
     "locked": true,
     "points": 2,
     "schema_version": 3,
     "solution": false,
     "task": false
    }
   },
   "outputs": [],
   "source": [
    "assert sum_list([1, 2, 3]) == 6\n",
    "assert sum_list([1, 2, 3], 5) == 11\n",
    "assert sum_list([1, 2, 3, 5, 11, 3213], 5) == 3240"
   ]
  },
  {
   "cell_type": "markdown",
   "metadata": {
    "deletable": false,
    "editable": false,
    "nbgrader": {
     "cell_type": "markdown",
     "checksum": "ed66a9fcc505265ac570181d350081e7",
     "grade": false,
     "grade_id": "cell-793265e8620872dc",
     "locked": true,
     "schema_version": 3,
     "solution": false,
     "task": false
    }
   },
   "source": [
    "## (3p) Write a function that takes two numbers and an arithmetic operator as a string (\"+\", \"-\", \"\\*\" or \"/\") and returns the result of the arithmetic operation on the two numbers. The default operation should be addition."
   ]
  },
  {
   "cell_type": "code",
   "execution_count": 9,
   "metadata": {
    "deletable": false,
    "nbgrader": {
     "cell_type": "code",
     "checksum": "5bc9884c50601be8afbda80595e0e8f5",
     "grade": false,
     "grade_id": "cell-f2dad9c42958066e",
     "locked": false,
     "schema_version": 3,
     "solution": true,
     "task": false
    }
   },
   "outputs": [],
   "source": [
    "# YOUR CODE HERE\n",
    "def arithmetic(n_1, n_2, sign=\"+\"):\n",
    "    return eval(str(n_1) + sign + str(n_2))"
   ]
  },
  {
   "cell_type": "code",
   "execution_count": 10,
   "metadata": {
    "deletable": false,
    "editable": false,
    "nbgrader": {
     "cell_type": "code",
     "checksum": "7c50161f861099aa52aad2ef8f393b53",
     "grade": true,
     "grade_id": "cell-7ed54437386acf59",
     "locked": true,
     "points": 3,
     "schema_version": 3,
     "solution": false,
     "task": false
    }
   },
   "outputs": [],
   "source": [
    "assert arithmetic(2, 3) == 5\n",
    "assert arithmetic(2, 3, \"+\") == 5\n",
    "assert arithmetic(2, 3, \"-\") == -1\n",
    "assert arithmetic(2, 3, \"*\") == 6\n",
    "assert arithmetic(2, 3, \"/\") == 2 / 3"
   ]
  },
  {
   "cell_type": "markdown",
   "metadata": {
    "deletable": false,
    "editable": false,
    "nbgrader": {
     "cell_type": "markdown",
     "checksum": "eb620a17fa47cfe02fcf02b90fbb0fb1",
     "grade": false,
     "grade_id": "cell-2ed6e73322e6ed6a",
     "locked": true,
     "schema_version": 3,
     "solution": false,
     "task": false
    }
   },
   "source": [
    "## (3p) Write a function that takes three parameters. The third is a callable (function) that takes two parameters. The function should call its third parameter with the first two as parameters. If the third parameter is not specified the function should add the two arguments.\n",
    "\n",
    "This is very similar to the previous function but the third parameter is a function instead of a string."
   ]
  },
  {
   "cell_type": "code",
   "execution_count": 17,
   "metadata": {
    "deletable": false,
    "nbgrader": {
     "cell_type": "code",
     "checksum": "e01cd3b14000b861507808416f95b19f",
     "grade": false,
     "grade_id": "cell-3d76a413c7125655",
     "locked": false,
     "schema_version": 3,
     "solution": true,
     "task": false
    }
   },
   "outputs": [],
   "source": [
    "# YOUR CODE HERE\n",
    "def product(a, b):\n",
    "    return a * b\n",
    "\n",
    "\n",
    "def call_func(f, s, t=None):\n",
    "    if t is not None:\n",
    "        return t(f, s)\n",
    "    else:\n",
    "        return f + s\n"
   ]
  },
  {
   "cell_type": "code",
   "execution_count": 18,
   "metadata": {
    "deletable": false,
    "editable": false,
    "nbgrader": {
     "cell_type": "code",
     "checksum": "a7aedce2dcf4b1ca4a0d48702f82fe83",
     "grade": true,
     "grade_id": "cell-c77dfa723cea60a1",
     "locked": true,
     "points": 3,
     "schema_version": 3,
     "solution": false,
     "task": false
    }
   },
   "outputs": [],
   "source": [
    "assert call_func(3, 4, product) == 12\n",
    "assert call_func(\"foo\", \"bar\") == \"foobar\""
   ]
  },
  {
   "cell_type": "markdown",
   "metadata": {
    "deletable": false,
    "editable": false,
    "nbgrader": {
     "cell_type": "markdown",
     "checksum": "136d91bd3a2853d7fc5c9f81a0a1608b",
     "grade": false,
     "grade_id": "cell-afaa10d520788225",
     "locked": true,
     "schema_version": 3,
     "solution": false,
     "task": false
    }
   },
   "source": [
    "# Advanced exercises"
   ]
  },
  {
   "cell_type": "markdown",
   "metadata": {
    "deletable": false,
    "editable": false,
    "nbgrader": {
     "cell_type": "markdown",
     "checksum": "067889b2376da79ce982636287c1e08a",
     "grade": false,
     "grade_id": "cell-99a1e44d923dd0ea",
     "locked": true,
     "schema_version": 3,
     "solution": false,
     "task": false
    }
   },
   "source": [
    "## (3p) Create a function that take a list and a predicate (function with boolean return value) as parameters and returns a new list of those elements which the predicate return True.\n",
    "\n",
    "A predicate is a function that takes one element and return `True` or `False`, for example `is_even`, `is_prime`.\n",
    "You need to implement the predicate functions in the tests and you are encouraged to add additional predicates and tests.\n",
    "\n",
    "If you implemented The following tests should run."
   ]
  },
  {
   "cell_type": "code",
   "execution_count": 25,
   "metadata": {
    "deletable": false,
    "nbgrader": {
     "cell_type": "code",
     "checksum": "81c8d876d1386aa7da2819c5f538463f",
     "grade": false,
     "grade_id": "cell-244a0447cef16213",
     "locked": false,
     "schema_version": 3,
     "solution": true,
     "task": false
    }
   },
   "outputs": [],
   "source": [
    "# YOUR CODE HERE\n",
    "def is_odd(n):\n",
    "    return n % 2 != 0\n",
    "\n",
    "\n",
    "def filter_list(l_, predicate):\n",
    "    l = []\n",
    "    for i in l_:\n",
    "        if predicate(i):\n",
    "            l.append(i)\n",
    "    return l\n"
   ]
  },
  {
   "cell_type": "code",
   "execution_count": 26,
   "metadata": {
    "deletable": false,
    "editable": false,
    "nbgrader": {
     "cell_type": "code",
     "checksum": "ecd5f0f1353cd1155d70d4997076f511",
     "grade": true,
     "grade_id": "cell-07ddbdcd2afcdf4c",
     "locked": true,
     "points": 3,
     "schema_version": 3,
     "solution": false,
     "task": false
    }
   },
   "outputs": [],
   "source": [
    "l1 = [1, 2, 3, 4, 19, 35, 11]\n",
    "l2 = [1, 4, 9, 16, 25]\n",
    "assert filter_list(l1, is_odd) == [1, 3, 19, 35, 11]\n",
    "assert filter_list(l1, is_prime) == [2, 3, 19, 11]\n",
    "assert filter_list(l2, is_prime) == []"
   ]
  },
  {
   "cell_type": "markdown",
   "metadata": {},
   "source": [
    "## (3p) Reduce is a function that applies a two argument function against an accumulator and each element in the sequence (from left to right) to reduce it to a single value. If no initial value is provided, the accumulator is initialized with the return value of the function run on the first two elements of the sequence.\n",
    "\n",
    "```\n",
    "reduce([1, 2, 3], product) ---> 6\n",
    "reduce([1, 2, 3], product, accumulator=10) ---> 60\n",
    "reduce([\"foo\", \"bar\"], string_addition) ---> \"foobar\"\n",
    "reduce([\"foo\", \"bar\"], string_addition, accumulator=\"hello\") ---> \"hellofoobar\"\n",
    "```"
   ]
  },
  {
   "cell_type": "code",
   "execution_count": 19,
   "metadata": {
    "deletable": false,
    "nbgrader": {
     "cell_type": "code",
     "checksum": "b86928a49f19ee38292ec5bef6c59933",
     "grade": false,
     "grade_id": "cell-6fb5723159b26749",
     "locked": false,
     "schema_version": 3,
     "solution": true,
     "task": false
    }
   },
   "outputs": [],
   "source": [
    "# YOUR CODE HERE\n",
    "def add(a, b):\n",
    "    return a + b\n",
    "\n",
    "\n",
    "def string_len_add(a, b):\n",
    "    if type(a) != str:\n",
    "        return a + len(b)\n",
    "    else:\n",
    "        return len(a) + len(b)\n",
    "\n",
    "\n",
    "def reduce(l_, method, accumulator=None):\n",
    "    if accumulator is None:\n",
    "        accumulator = method(l_[0], l_[1])\n",
    "        l_ = l_[:2]\n",
    "    for i in l_:\n",
    "        accumulator = method(accumulator, i)\n",
    "    return accumulator"
   ]
  },
  {
   "cell_type": "code",
   "execution_count": 20,
   "metadata": {
    "deletable": false,
    "editable": false,
    "nbgrader": {
     "cell_type": "code",
     "checksum": "7c5d09e435b16f5279fa4bad5fbf84f7",
     "grade": true,
     "grade_id": "cell-c43e405f72ada059",
     "locked": true,
     "points": 3,
     "schema_version": 3,
     "solution": false,
     "task": false
    }
   },
   "outputs": [],
   "source": [
    "l1 = [1, 2, -1, 5]\n",
    "l2 = [\"foo\", \"bar\", \"hello\"]\n",
    "\n",
    "assert reduce(l1, add) == 7\n",
    "assert reduce(l1, add, 10) == 17\n",
    "assert reduce(l2, string_len_add, 0) == 11"
   ]
  },
  {
   "cell_type": "markdown",
   "metadata": {
    "deletable": false,
    "editable": false,
    "nbgrader": {
     "cell_type": "markdown",
     "checksum": "2a62772ef005280e1e6e1dbef24b50de",
     "grade": false,
     "grade_id": "cell-4162c6de3504dae6",
     "locked": true,
     "schema_version": 3,
     "solution": false,
     "task": false
    }
   },
   "source": [
    "## (1p) Use your reduce function for the following operations:\n",
    "\n",
    "1. count the number of odd elements in a list of integers,\n",
    "2. find the maximum of a list of integers,\n",
    "3. find the longest string in list of strings."
   ]
  },
  {
   "cell_type": "code",
   "execution_count": 21,
   "metadata": {
    "deletable": false,
    "nbgrader": {
     "cell_type": "code",
     "checksum": "fa4cb9e0cccfb01cb3eca64f7129929b",
     "grade": true,
     "grade_id": "cell-1554306956c531d6",
     "locked": false,
     "points": 0,
     "schema_version": 3,
     "solution": true,
     "task": false
    }
   },
   "outputs": [],
   "source": [
    "# YOUR CODE HERE\n",
    "def num_odd_elements(number, b):\n",
    "    if b % 2 != 0:\n",
    "        number += 1\n",
    "    return number\n",
    "\n",
    "\n",
    "def get_longest(word, i):\n",
    "    if len(word) < len(i):\n",
    "        word = i\n",
    "    return word"
   ]
  },
  {
   "cell_type": "code",
   "execution_count": 22,
   "metadata": {
    "deletable": false,
    "nbgrader": {
     "cell_type": "code",
     "checksum": "29b26420f09f7b93e922c27d80c8abc9",
     "grade": true,
     "grade_id": "cell-959dbab0fb50d84d",
     "locked": false,
     "points": 1,
     "schema_version": 3,
     "solution": true,
     "task": false
    }
   },
   "outputs": [],
   "source": [
    "test_list = [1, 2, 3, 4, 5, 7, 9, 11, 16]\n",
    "test_string_list = [\n",
    "    \"abc\",\n",
    "    \"casdsa\",\n",
    "    \"adasdefasf\",\n",
    "    \"adhaetjareh\",\n",
    "    \"This is a very long string, so hopefully my function will return this.\",\n",
    "]\n",
    "\n",
    "# 1\n",
    "assert reduce(test_list, num_odd_elements) == 6\n",
    "# 2\n",
    "assert reduce(test_list, max) == 16\n",
    "# 3\n",
    "assert (\n",
    "        reduce(test_string_list, get_longest)\n",
    "        == \"This is a very long string, so hopefully my function will return this.\"\n",
    ")"
   ]
  },
  {
   "cell_type": "markdown",
   "metadata": {
    "deletable": false,
    "editable": false,
    "nbgrader": {
     "cell_type": "markdown",
     "checksum": "b1521c312f0e87507efecb5d2e5b068e",
     "grade": false,
     "grade_id": "cell-8e8d5e94389c08d7",
     "locked": true,
     "schema_version": 3,
     "solution": false,
     "task": false
    }
   },
   "source": [
    "## Implement qsort. Qsort sorts a list in place using the quicksort algorithm."
   ]
  },
  {
   "cell_type": "code",
   "execution_count": 13,
   "metadata": {
    "deletable": false,
    "nbgrader": {
     "cell_type": "code",
     "checksum": "e25eaa6121c22396f9d97500441735ee",
     "grade": false,
     "grade_id": "cell-a9a76c9ca712b9ee",
     "locked": false,
     "schema_version": 3,
     "solution": true,
     "task": false
    }
   },
   "outputs": [],
   "source": [
    "# YOUR CODE HERE\n",
    "def partition(l, r, nums):\n",
    "    pivot, ptr = nums[r], l\n",
    "    for i in range(l, r):\n",
    "        if nums[i] <= pivot:\n",
    "            nums[i], nums[ptr] = nums[ptr], nums[i]\n",
    "            ptr += 1\n",
    "    nums[ptr], nums[r] = nums[r], nums[ptr]\n",
    "    return ptr\n",
    "\n",
    "\n",
    "def qsort(l, r, nums):\n",
    "    if len(nums) == 1:\n",
    "        return nums\n",
    "    if l < r:\n",
    "        pi = partition(l, r, nums)\n",
    "        qsort(l, pi - 1, nums)\n",
    "        qsort(pi + 1, r, nums)\n",
    "    return nums"
   ]
  },
  {
   "cell_type": "code",
   "execution_count": 14,
   "metadata": {
    "deletable": false,
    "editable": false,
    "nbgrader": {
     "cell_type": "code",
     "checksum": "82fc284291a1a964367d6cd9c796f0bf",
     "grade": true,
     "grade_id": "cell-034cb73519ff059b",
     "locked": true,
     "points": 0,
     "schema_version": 3,
     "solution": false,
     "task": false
    }
   },
   "outputs": [],
   "source": [
    "l1 = [10, -1, 2, 11, 0]\n",
    "l2 = [5, 4, 3, 1, 2]\n",
    "qsort(0, len(l1) - 1, l1)\n",
    "qsort(0, len(l2) - 1, l2)\n",
    "assert l1 == [-1, 0, 2, 10, 11]\n",
    "assert l2 == [1, 2, 3, 4, 5]"
   ]
  },
  {
   "cell_type": "markdown",
   "metadata": {
    "deletable": false,
    "editable": false,
    "nbgrader": {
     "cell_type": "markdown",
     "checksum": "4e8e3b4dc7a0928a6201501c00a497fe",
     "grade": false,
     "grade_id": "cell-7df176aff71be026",
     "locked": true,
     "schema_version": 3,
     "solution": false,
     "task": false
    }
   },
   "source": [
    "## Implement in-place bubble sort.\n",
    "\n",
    "In-place means that the function changes the list it gets as an argument instead of creating a new list."
   ]
  },
  {
   "cell_type": "code",
   "execution_count": 9,
   "metadata": {
    "deletable": false,
    "nbgrader": {
     "cell_type": "code",
     "checksum": "052163fe9b9d6e39dca81ba1bae3b6b3",
     "grade": false,
     "grade_id": "cell-40c165b7b3725cc9",
     "locked": false,
     "schema_version": 3,
     "solution": true,
     "task": false
    }
   },
   "outputs": [],
   "source": [
    "# YOUR CODE HERE\n",
    "def bubblesort(l_):\n",
    "    swapped = False\n",
    "    for i in range(0, len(l_) - 1):\n",
    "        for j in range(0, len(l_) - i - 1):\n",
    "            if l_[j] > l_[j + 1]:\n",
    "                swapped = True\n",
    "                l_[j], l_[j + 1] = l_[j + 1], l_[j]\n",
    "        if not swapped:\n",
    "            return"
   ]
  },
  {
   "cell_type": "code",
   "execution_count": 10,
   "metadata": {
    "deletable": false,
    "editable": false,
    "nbgrader": {
     "cell_type": "code",
     "checksum": "b2c6f34eff794ca6bed39db38b46e3ca",
     "grade": true,
     "grade_id": "cell-1de3197545574d72",
     "locked": true,
     "points": 0,
     "schema_version": 3,
     "solution": false,
     "task": false
    }
   },
   "outputs": [],
   "source": [
    "l1 = [10, -1, 2, 11, 0]\n",
    "l2 = [5, 4, 3, 1, 2]\n",
    "bubblesort(l1)\n",
    "bubblesort(l2)\n",
    "assert l1 == [-1, 0, 2, 10, 11]\n",
    "assert l2 == [1, 2, 3, 4, 5]"
   ]
  }
 ],
 "metadata": {
  "kernelspec": {
   "display_name": "Python 3 (ipykernel)",
   "language": "python",
   "name": "python3"
  },
  "language_info": {
   "codemirror_mode": {
    "name": "ipython",
    "version": 3
   },
   "file_extension": ".py",
   "mimetype": "text/x-python",
   "name": "python",
   "nbconvert_exporter": "python",
   "pygments_lexer": "ipython3",
   "version": "3.8.5"
  },
  "toc": {
   "base_numbering": 1,
   "nav_menu": {
    "height": "12px",
    "width": "252px"
   },
   "number_sections": true,
   "sideBar": true,
   "skip_h1_title": false,
   "title_cell": "Table of Contents",
   "title_sidebar": "Contents",
   "toc_cell": false,
   "toc_position": {
    "height": "calc(100% - 180px)",
    "left": "10px",
    "top": "150px",
    "width": "384px"
   },
   "toc_section_display": "block",
   "toc_window_display": true
  }
 },
 "nbformat": 4,
 "nbformat_minor": 2
}
